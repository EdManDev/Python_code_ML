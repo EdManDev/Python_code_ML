{
 "cells": [
  {
   "cell_type": "markdown",
   "metadata": {},
   "source": [
    "# Chapter 4\n",
    "\n",
    "In this chapter, we will start to create predictor algorithms using statistical methods. We will create a regression algorithm and make predictions then we will make statistics on our earnings\n",
    "\n",
    "###### Summary\n",
    "- Librairies\n",
    "- Data import\n",
    "- Set of data\n",
    "- Linear Regression\n",
    "- predictions\n",
    "- Visualization\n",
    "- Earnings\n",
    "- Statistics"
   ]
  },
  {
   "cell_type": "code",
   "execution_count": 1,
   "metadata": {},
   "outputs": [],
   "source": [
    "import numpy as np\n",
    "import pandas as pds\n",
    "import matplotlib.pyplot as plt\n",
    "%matplotlib inline\n",
    "import warnings\n",
    "warnings.filterwarnings(\"ignore\")"
   ]
  },
  {
   "cell_type": "markdown",
   "metadata": {},
   "source": [
    "###### Data import\n",
    "\n",
    "for personnal key : https://www.alphavantage.co/support/#api-key"
   ]
  },
  {
   "cell_type": "code",
   "execution_count": 2,
   "metadata": {},
   "outputs": [],
   "source": [
    "from alpha_vantage.timeseries import TimeSeries\n",
    "key = 'Your personnal key'\n",
    "ts = TimeSeries(key, output_format='pandas')\n",
    "amzn, _ = ts.get_daily(symbol=\"AMZN\", outputsize='full')\n",
    "amzn.columns = ['OPEN', 'HIGH', 'LOW', 'CLOSE', 'VOLUME']\n",
    "amzn = amzn.sort_index(axis=0, ascending=True)"
   ]
  },
  {
   "cell_type": "code",
   "execution_count": 3,
   "metadata": {},
   "outputs": [
    {
     "data": {
      "text/html": [
       "<div>\n",
       "<style scoped>\n",
       "    .dataframe tbody tr th:only-of-type {\n",
       "        vertical-align: middle;\n",
       "    }\n",
       "\n",
       "    .dataframe tbody tr th {\n",
       "        vertical-align: top;\n",
       "    }\n",
       "\n",
       "    .dataframe thead th {\n",
       "        text-align: right;\n",
       "    }\n",
       "</style>\n",
       "<table border=\"1\" class=\"dataframe\">\n",
       "  <thead>\n",
       "    <tr style=\"text-align: right;\">\n",
       "      <th></th>\n",
       "      <th>OPEN</th>\n",
       "      <th>HIGH</th>\n",
       "      <th>LOW</th>\n",
       "      <th>CLOSE</th>\n",
       "    </tr>\n",
       "    <tr>\n",
       "      <th>date</th>\n",
       "      <th></th>\n",
       "      <th></th>\n",
       "      <th></th>\n",
       "      <th></th>\n",
       "    </tr>\n",
       "  </thead>\n",
       "  <tbody>\n",
       "    <tr>\n",
       "      <th>2000-03-31</th>\n",
       "      <td>0.034884</td>\n",
       "      <td>-0.003710</td>\n",
       "      <td>-0.015625</td>\n",
       "      <td>0.007519</td>\n",
       "    </tr>\n",
       "    <tr>\n",
       "      <th>2000-04-03</th>\n",
       "      <td>-0.019625</td>\n",
       "      <td>-0.021451</td>\n",
       "      <td>-0.015873</td>\n",
       "      <td>-0.051343</td>\n",
       "    </tr>\n",
       "    <tr>\n",
       "      <th>2000-04-04</th>\n",
       "      <td>-0.039120</td>\n",
       "      <td>-0.003806</td>\n",
       "      <td>-0.100806</td>\n",
       "      <td>0.005979</td>\n",
       "    </tr>\n",
       "    <tr>\n",
       "      <th>2000-04-05</th>\n",
       "      <td>-0.017971</td>\n",
       "      <td>-0.007641</td>\n",
       "      <td>0.085202</td>\n",
       "      <td>-0.027369</td>\n",
       "    </tr>\n",
       "    <tr>\n",
       "      <th>2000-04-06</th>\n",
       "      <td>0.027368</td>\n",
       "      <td>0.008623</td>\n",
       "      <td>0.022810</td>\n",
       "      <td>0.033124</td>\n",
       "    </tr>\n",
       "    <tr>\n",
       "      <th>...</th>\n",
       "      <td>...</td>\n",
       "      <td>...</td>\n",
       "      <td>...</td>\n",
       "      <td>...</td>\n",
       "    </tr>\n",
       "    <tr>\n",
       "      <th>2020-03-25</th>\n",
       "      <td>-0.016045</td>\n",
       "      <td>-0.002425</td>\n",
       "      <td>-0.007662</td>\n",
       "      <td>-0.027968</td>\n",
       "    </tr>\n",
       "    <tr>\n",
       "      <th>2020-03-26</th>\n",
       "      <td>-0.009731</td>\n",
       "      <td>0.003194</td>\n",
       "      <td>0.001861</td>\n",
       "      <td>0.036933</td>\n",
       "    </tr>\n",
       "    <tr>\n",
       "      <th>2020-03-27</th>\n",
       "      <td>0.015174</td>\n",
       "      <td>-0.008536</td>\n",
       "      <td>0.005626</td>\n",
       "      <td>-0.028325</td>\n",
       "    </tr>\n",
       "    <tr>\n",
       "      <th>2020-03-30</th>\n",
       "      <td>-0.004159</td>\n",
       "      <td>0.017445</td>\n",
       "      <td>0.006537</td>\n",
       "      <td>0.033603</td>\n",
       "    </tr>\n",
       "    <tr>\n",
       "      <th>2020-03-31</th>\n",
       "      <td>0.021593</td>\n",
       "      <td>0.009825</td>\n",
       "      <td>0.016561</td>\n",
       "      <td>-0.007246</td>\n",
       "    </tr>\n",
       "  </tbody>\n",
       "</table>\n",
       "<p>5031 rows × 4 columns</p>\n",
       "</div>"
      ],
      "text/plain": [
       "                OPEN      HIGH       LOW     CLOSE\n",
       "date                                              \n",
       "2000-03-31  0.034884 -0.003710 -0.015625  0.007519\n",
       "2000-04-03 -0.019625 -0.021451 -0.015873 -0.051343\n",
       "2000-04-04 -0.039120 -0.003806 -0.100806  0.005979\n",
       "2000-04-05 -0.017971 -0.007641  0.085202 -0.027369\n",
       "2000-04-06  0.027368  0.008623  0.022810  0.033124\n",
       "...              ...       ...       ...       ...\n",
       "2020-03-25 -0.016045 -0.002425 -0.007662 -0.027968\n",
       "2020-03-26 -0.009731  0.003194  0.001861  0.036933\n",
       "2020-03-27  0.015174 -0.008536  0.005626 -0.028325\n",
       "2020-03-30 -0.004159  0.017445  0.006537  0.033603\n",
       "2020-03-31  0.021593  0.009825  0.016561 -0.007246\n",
       "\n",
       "[5031 rows x 4 columns]"
      ]
     },
     "execution_count": 3,
     "metadata": {},
     "output_type": "execute_result"
    }
   ],
   "source": [
    "amzn = amzn[['OPEN', 'HIGH', 'LOW', 'CLOSE']].pct_change(1).dropna()\n",
    "amzn"
   ]
  },
  {
   "cell_type": "markdown",
   "metadata": {},
   "source": [
    "##### Set of data"
   ]
  },
  {
   "cell_type": "code",
   "execution_count": 4,
   "metadata": {},
   "outputs": [],
   "source": [
    "a = 3860\n",
    "l = len(amzn)\n",
    "\n",
    "\n",
    "X_train = amzn.iloc[0:a-1,:].values\n",
    "X_visu = amzn.iloc[a:l-1,:].values\n",
    "\n",
    "y_train = amzn[[\"CLOSE\"]].iloc[1:a,:].values\n",
    "y_visu = amzn[[\"CLOSE\"]].iloc[a+1:l,:].values"
   ]
  },
  {
   "cell_type": "code",
   "execution_count": null,
   "metadata": {},
   "outputs": [],
   "source": []
  },
  {
   "cell_type": "markdown",
   "metadata": {},
   "source": [
    "##### Linear Regression \n",
    "The objective of a regression in statistics and to be able to predict the behavior of a variable based on other variables. Here, with the X the regression tries to predict the behavior of y. Thus, we try to predict the future price of an asset using OHLCV data.\n",
    "\n",
    "\n",
    "```price(t+1)  = x1 * Open(t) + x2 * High(t) + x3 * Low(t) + x4 * Close(t) + x5 * Volume(t) ```\n",
    "\n",
    "\n",
    "The objective of regression is to find the vector of coefficient X which will make the equation the most precise."
   ]
  },
  {
   "cell_type": "code",
   "execution_count": 5,
   "metadata": {},
   "outputs": [
    {
     "data": {
      "text/plain": [
       "LinearRegression(copy_X=True, fit_intercept=True, n_jobs=None, normalize=False)"
      ]
     },
     "execution_count": 5,
     "metadata": {},
     "output_type": "execute_result"
    }
   ],
   "source": [
    "from sklearn.linear_model import LinearRegression\n",
    "rl = LinearRegression()\n",
    "rl.fit(X_train, y_train)"
   ]
  },
  {
   "cell_type": "markdown",
   "metadata": {},
   "source": [
    "##### Prévision"
   ]
  },
  {
   "cell_type": "code",
   "execution_count": 6,
   "metadata": {},
   "outputs": [],
   "source": [
    "y_pred = rl.predict(X_visu)"
   ]
  },
  {
   "cell_type": "code",
   "execution_count": 7,
   "metadata": {},
   "outputs": [
    {
     "data": {
      "text/plain": [
       "array([[0.0012342 ],\n",
       "       [0.00071127],\n",
       "       [0.00218318],\n",
       "       ...,\n",
       "       [0.00010004],\n",
       "       [0.00164422],\n",
       "       [0.00098407]])"
      ]
     },
     "execution_count": 7,
     "metadata": {},
     "output_type": "execute_result"
    }
   ],
   "source": [
    "y_pred"
   ]
  },
  {
   "cell_type": "code",
   "execution_count": 8,
   "metadata": {},
   "outputs": [
    {
     "data": {
      "text/html": [
       "<div>\n",
       "<style scoped>\n",
       "    .dataframe tbody tr th:only-of-type {\n",
       "        vertical-align: middle;\n",
       "    }\n",
       "\n",
       "    .dataframe tbody tr th {\n",
       "        vertical-align: top;\n",
       "    }\n",
       "\n",
       "    .dataframe thead th {\n",
       "        text-align: right;\n",
       "    }\n",
       "</style>\n",
       "<table border=\"1\" class=\"dataframe\">\n",
       "  <thead>\n",
       "    <tr style=\"text-align: right;\">\n",
       "      <th></th>\n",
       "      <th>0</th>\n",
       "    </tr>\n",
       "  </thead>\n",
       "  <tbody>\n",
       "    <tr>\n",
       "      <th>0</th>\n",
       "      <td>0.001234</td>\n",
       "    </tr>\n",
       "    <tr>\n",
       "      <th>1</th>\n",
       "      <td>0.000711</td>\n",
       "    </tr>\n",
       "    <tr>\n",
       "      <th>2</th>\n",
       "      <td>0.002183</td>\n",
       "    </tr>\n",
       "    <tr>\n",
       "      <th>3</th>\n",
       "      <td>0.001054</td>\n",
       "    </tr>\n",
       "    <tr>\n",
       "      <th>4</th>\n",
       "      <td>-0.000272</td>\n",
       "    </tr>\n",
       "    <tr>\n",
       "      <th>...</th>\n",
       "      <td>...</td>\n",
       "    </tr>\n",
       "    <tr>\n",
       "      <th>1165</th>\n",
       "      <td>-0.000480</td>\n",
       "    </tr>\n",
       "    <tr>\n",
       "      <th>1166</th>\n",
       "      <td>0.003388</td>\n",
       "    </tr>\n",
       "    <tr>\n",
       "      <th>1167</th>\n",
       "      <td>0.000100</td>\n",
       "    </tr>\n",
       "    <tr>\n",
       "      <th>1168</th>\n",
       "      <td>0.001644</td>\n",
       "    </tr>\n",
       "    <tr>\n",
       "      <th>1169</th>\n",
       "      <td>0.000984</td>\n",
       "    </tr>\n",
       "  </tbody>\n",
       "</table>\n",
       "<p>1170 rows × 1 columns</p>\n",
       "</div>"
      ],
      "text/plain": [
       "             0\n",
       "0     0.001234\n",
       "1     0.000711\n",
       "2     0.002183\n",
       "3     0.001054\n",
       "4    -0.000272\n",
       "...        ...\n",
       "1165 -0.000480\n",
       "1166  0.003388\n",
       "1167  0.000100\n",
       "1168  0.001644\n",
       "1169  0.000984\n",
       "\n",
       "[1170 rows x 1 columns]"
      ]
     },
     "execution_count": 8,
     "metadata": {},
     "output_type": "execute_result"
    }
   ],
   "source": [
    "pds.DataFrame(y_pred)"
   ]
  },
  {
   "cell_type": "markdown",
   "metadata": {},
   "source": [
    "##### Visualization"
   ]
  },
  {
   "cell_type": "code",
   "execution_count": 9,
   "metadata": {},
   "outputs": [
    {
     "data": {
      "image/png": "[encoded data removed]",
      "text/plain": [
       "<Figure size 1080x720 with 1 Axes>"
      ]
     },
     "metadata": {
      "needs_background": "light"
     },
     "output_type": "display_data"
    },
    {
     "data": {
      "image/png": "[encoded data removed]",
      "text/plain": [
       "<Figure size 1080x720 with 1 Axes>"
      ]
     },
     "metadata": {
      "needs_background": "light"
     },
     "output_type": "display_data"
    }
   ],
   "source": [
    "plt.figure(figsize=(15,10))\n",
    "plt.plot(y_pred, color=\"teal\", label=\"y_prediction\")\n",
    "plt.plot(y_visu, color=\"green\", alpha=0.15, label = \"y_value\", linewidth=5)\n",
    "plt.legend()\n",
    "plt.show()\n",
    "\n",
    "plt.figure(figsize=(15,10))\n",
    "plt.scatter(y_pred, y_visu, label=\"y_prediction\")\n",
    "plt.show()\n"
   ]
  },
  {
   "cell_type": "markdown",
   "metadata": {},
   "source": [
    "##### Earnings"
   ]
  },
  {
   "cell_type": "code",
   "execution_count": 10,
   "metadata": {},
   "outputs": [],
   "source": [
    "def earning(tx_pred, tx_visu, sb=0.00, sh=0.00, spread=0.0005):\n",
    "    # Initialisation\n",
    "    l = len(tx_pred)\n",
    "    earning = np.zeros(l).reshape(l,1)\n",
    "    \n",
    "    #Earning\n",
    "    for i in range(l):\n",
    "        if tx_pred[i][0]>sh:\n",
    "            earning[i][0] = (tx_visu[i][0])-spread\n",
    "        if tx_pred[i][0]<-sb:\n",
    "            earning[i][0] = (-tx_visu[i][0])-spread\n",
    "    return earning"
   ]
  },
  {
   "cell_type": "code",
   "execution_count": 11,
   "metadata": {},
   "outputs": [],
   "source": [
    "earning = earning(y_pred, y_visu)"
   ]
  },
  {
   "cell_type": "code",
   "execution_count": 12,
   "metadata": {},
   "outputs": [
    {
     "data": {
      "text/plain": [
       "[<matplotlib.lines.Line2D at 0x1a189455d0>]"
      ]
     },
     "execution_count": 12,
     "metadata": {},
     "output_type": "execute_result"
    },
    {
     "data": {
      "image/png": "[encoded data removed]",
      "text/plain": [
       "<Figure size 432x288 with 1 Axes>"
      ]
     },
     "metadata": {
      "needs_background": "light"
     },
     "output_type": "display_data"
    }
   ],
   "source": [
    "plt.plot(earning)"
   ]
  },
  {
   "cell_type": "markdown",
   "metadata": {},
   "source": [
    "###### Statistics"
   ]
  },
  {
   "cell_type": "code",
   "execution_count": 13,
   "metadata": {},
   "outputs": [
    {
     "name": "stdout",
     "output_type": "stream",
     "text": [
      "Average = 0.0997717370856093 %\n"
     ]
    }
   ],
   "source": [
    "print(\"Average = {} %\".format(np.mean(earning[earning!=0])*100))"
   ]
  },
  {
   "cell_type": "code",
   "execution_count": 14,
   "metadata": {},
   "outputs": [
    {
     "name": "stdout",
     "output_type": "stream",
     "text": [
      "StandardDeviation = 1.858062579194208 %\n"
     ]
    }
   ],
   "source": [
    "print(\"StandardDeviation = {} %\".format(np.std(earning[earning!=0])*100))"
   ]
  },
  {
   "cell_type": "code",
   "execution_count": 15,
   "metadata": {},
   "outputs": [
    {
     "name": "stdout",
     "output_type": "stream",
     "text": [
      "SharpeRatio = 0.05369665058798914\n"
     ]
    }
   ],
   "source": [
    "print(\"SharpeRatio = {}\".format(np.mean(earning[earning!=0])/np.std(earning[earning!=0])))"
   ]
  },
  {
   "cell_type": "code",
   "execution_count": 16,
   "metadata": {},
   "outputs": [
    {
     "name": "stdout",
     "output_type": "stream",
     "text": [
      "DownStandardDeviation = 1.3551404586309188 %\n"
     ]
    }
   ],
   "source": [
    "print(\"DownStandardDeviation = {} %\".format(np.std(earning[earning<0])*100))"
   ]
  },
  {
   "cell_type": "code",
   "execution_count": 17,
   "metadata": {},
   "outputs": [
    {
     "name": "stdout",
     "output_type": "stream",
     "text": [
      "SoritnoRatio = 0.0736246463974719\n"
     ]
    }
   ],
   "source": [
    "print(\"SoritnoRatio = {}\".format(np.mean(earning[earning!=0])/np.std(earning[earning<0])))"
   ]
  },
  {
   "cell_type": "code",
   "execution_count": 18,
   "metadata": {},
   "outputs": [
    {
     "name": "stdout",
     "output_type": "stream",
     "text": [
      "Sum = 116.73293239016287 %\n"
     ]
    }
   ],
   "source": [
    "print(\"Sum = {} %\".format(np.sum(earning[earning!=0])*100, 3))"
   ]
  },
  {
   "cell_type": "code",
   "execution_count": 19,
   "metadata": {},
   "outputs": [
    {
     "name": "stdout",
     "output_type": "stream",
     "text": [
      "------------------ Initialization -----------------------\n",
      "Rising threshold: 0.0\n",
      "Lower threshold: 0.0\n",
      "Spread: 0.0005\n",
      "Leverage: 1\n",
      "                                                           \n",
      "---------------------- Metrics ----------------------------\n",
      "Accuracy 54.02 %\n",
      "Pourcentage of earnings: 116.73 %\n",
      "Poucentage composed: 162.63 %\n",
      "Ratio earning/trade: 0.1 %\n",
      "Standard deviation of earning: 1.86 %\n",
      "Sharpe ratio: 0.053697\n",
      "Sortino ratio: 0.073625\n",
      "                                                           \n",
      "-------------------- Other Data -----------------------\n",
      "Sum rise earning: 107.76 %\n",
      "Sum drop earning: 8.97 %\n",
      "Max rise earning: 13.17 %\n",
      "Min rise earning: -7.97 %\n",
      "Max drop earning: 5.82 %\n",
      "Min drop earning: -7.43 %\n",
      "                                                           \n",
      "-------------------- Distribution -----------------------\n"
     ]
    },
    {
     "data": {
      "image/png": "[encoded data removed]",
      "text/plain": [
       "<Figure size 432x288 with 1 Axes>"
      ]
     },
     "metadata": {
      "needs_background": "light"
     },
     "output_type": "display_data"
    },
    {
     "name": "stdout",
     "output_type": "stream",
     "text": [
      "                                                           \n",
      "-------------------- Growth of investment -----------------------\n"
     ]
    },
    {
     "data": {
      "image/png": "[encoded data removed]",
      "text/plain": [
       "<Figure size 432x288 with 1 Axes>"
      ]
     },
     "metadata": {
      "needs_background": "light"
     },
     "output_type": "display_data"
    }
   ],
   "source": [
    "##### This is backtesting of the chapter 5\n",
    "##### We must read the chapter 5 to undertand\n",
    "from earning import*\n",
    "y_pred = y_pred.reshape(len(y_pred),1)\n",
    "earning(y_pred,y_visu)"
   ]
  },
  {
   "cell_type": "code",
   "execution_count": null,
   "metadata": {},
   "outputs": [],
   "source": []
  },
  {
   "cell_type": "code",
   "execution_count": null,
   "metadata": {},
   "outputs": [],
   "source": []
  },
  {
   "cell_type": "code",
   "execution_count": null,
   "metadata": {},
   "outputs": [],
   "source": []
  },
  {
   "cell_type": "code",
   "execution_count": null,
   "metadata": {},
   "outputs": [],
   "source": []
  },
  {
   "cell_type": "code",
   "execution_count": null,
   "metadata": {},
   "outputs": [],
   "source": []
  },
  {
   "cell_type": "code",
   "execution_count": null,
   "metadata": {},
   "outputs": [],
   "source": []
  },
  {
   "cell_type": "code",
   "execution_count": null,
   "metadata": {},
   "outputs": [],
   "source": []
  },
  {
   "cell_type": "code",
   "execution_count": null,
   "metadata": {},
   "outputs": [],
   "source": []
  },
  {
   "cell_type": "code",
   "execution_count": null,
   "metadata": {},
   "outputs": [],
   "source": []
  },
  {
   "cell_type": "code",
   "execution_count": null,
   "metadata": {},
   "outputs": [],
   "source": []
  },
  {
   "cell_type": "code",
   "execution_count": null,
   "metadata": {},
   "outputs": [],
   "source": []
  }
 ],
 "metadata": {
  "kernelspec": {
   "display_name": "Python 3",
   "language": "python",
   "name": "python3"
  },
  "language_info": {
   "codemirror_mode": {
    "name": "ipython",
    "version": 3
   },
   "file_extension": ".py",
   "mimetype": "text/x-python",
   "name": "python",
   "nbconvert_exporter": "python",
   "pygments_lexer": "ipython3",
   "version": "3.7.6"
  }
 },
 "nbformat": 4,
 "nbformat_minor": 4
}
