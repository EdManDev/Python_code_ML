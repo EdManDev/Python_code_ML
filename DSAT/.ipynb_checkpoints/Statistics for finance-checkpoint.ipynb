{
 "cells": [
  {
   "cell_type": "markdown",
   "metadata": {},
   "source": [
    "# Chapter 4\n",
    "\n",
    "In this chapter, we will start to create predictor algorithms using statistical methods. We will create a regression algorithm and make predictions then we will make statistics on our earnings\n",
    "\n",
    "###### Summary\n",
    "- Librairies\n",
    "- Data import\n",
    "- Set of data\n",
    "- Linear Regression\n",
    "- predictions\n",
    "- Visualization\n",
    "- Earnings\n",
    "- Statistics"
   ]
  },
  {
   "cell_type": "code",
   "execution_count": 1,
   "metadata": {},
   "outputs": [],
   "source": [
    "import numpy as np\n",
    "import pandas as pds\n",
    "import matplotlib.pyplot as plt\n",
    "%matplotlib inline\n",
    "import warnings\n",
    "warnings.filterwarnings(\"ignore\")"
   ]
  },
  {
   "cell_type": "markdown",
   "metadata": {},
   "source": [
    "###### Data import\n",
    "\n",
    "for personnal key : https://www.alphavantage.co/support/#api-key"
   ]
  },
  {
   "cell_type": "code",
   "execution_count": 13,
   "metadata": {},
   "outputs": [],
   "source": [
    "from alpha_vantage.timeseries import TimeSeries\n",
    "key = 'Your personnal key'\n",
    "ts = TimeSeries(key, output_format='pandas')\n",
    "amzn, _ = ts.get_daily(symbol=\"AMZN\", outputsize='full')\n",
    "amzn.columns = ['OPEN', 'HIGH', 'LOW', 'CLOSE', 'VOLUME']\n",
    "amzn = amzn.sort_index(axis=0, ascending=True)"
   ]
  },
  {
   "cell_type": "code",
   "execution_count": 14,
   "metadata": {},
   "outputs": [
    {
     "data": {
      "text/html": [
       "<div>\n",
       "<style scoped>\n",
       "    .dataframe tbody tr th:only-of-type {\n",
       "        vertical-align: middle;\n",
       "    }\n",
       "\n",
       "    .dataframe tbody tr th {\n",
       "        vertical-align: top;\n",
       "    }\n",
       "\n",
       "    .dataframe thead th {\n",
       "        text-align: right;\n",
       "    }\n",
       "</style>\n",
       "<table border=\"1\" class=\"dataframe\">\n",
       "  <thead>\n",
       "    <tr style=\"text-align: right;\">\n",
       "      <th></th>\n",
       "      <th>OPEN</th>\n",
       "      <th>HIGH</th>\n",
       "      <th>LOW</th>\n",
       "      <th>CLOSE</th>\n",
       "    </tr>\n",
       "    <tr>\n",
       "      <th>date</th>\n",
       "      <th></th>\n",
       "      <th></th>\n",
       "      <th></th>\n",
       "      <th></th>\n",
       "    </tr>\n",
       "  </thead>\n",
       "  <tbody>\n",
       "    <tr>\n",
       "      <th>2000-03-28</th>\n",
       "      <td>0.001799</td>\n",
       "      <td>-0.031678</td>\n",
       "      <td>-0.031777</td>\n",
       "      <td>-0.041023</td>\n",
       "    </tr>\n",
       "    <tr>\n",
       "      <th>2000-03-29</th>\n",
       "      <td>-0.039790</td>\n",
       "      <td>-0.039450</td>\n",
       "      <td>-0.064344</td>\n",
       "      <td>-0.055326</td>\n",
       "    </tr>\n",
       "    <tr>\n",
       "      <th>2000-03-30</th>\n",
       "      <td>-0.071942</td>\n",
       "      <td>-0.035776</td>\n",
       "      <td>-0.015385</td>\n",
       "      <td>0.003774</td>\n",
       "    </tr>\n",
       "    <tr>\n",
       "      <th>2000-03-31</th>\n",
       "      <td>0.034884</td>\n",
       "      <td>-0.003710</td>\n",
       "      <td>-0.015625</td>\n",
       "      <td>0.007519</td>\n",
       "    </tr>\n",
       "    <tr>\n",
       "      <th>2000-04-03</th>\n",
       "      <td>-0.019625</td>\n",
       "      <td>-0.021451</td>\n",
       "      <td>-0.015873</td>\n",
       "      <td>-0.051343</td>\n",
       "    </tr>\n",
       "    <tr>\n",
       "      <th>...</th>\n",
       "      <td>...</td>\n",
       "      <td>...</td>\n",
       "      <td>...</td>\n",
       "      <td>...</td>\n",
       "    </tr>\n",
       "    <tr>\n",
       "      <th>2020-03-23</th>\n",
       "      <td>-0.051165</td>\n",
       "      <td>-0.019213</td>\n",
       "      <td>-0.004795</td>\n",
       "      <td>0.030735</td>\n",
       "    </tr>\n",
       "    <tr>\n",
       "      <th>2020-03-24</th>\n",
       "      <td>0.067985</td>\n",
       "      <td>0.018547</td>\n",
       "      <td>0.048753</td>\n",
       "      <td>0.019587</td>\n",
       "    </tr>\n",
       "    <tr>\n",
       "      <th>2020-03-25</th>\n",
       "      <td>-0.016045</td>\n",
       "      <td>-0.002425</td>\n",
       "      <td>-0.007662</td>\n",
       "      <td>-0.027968</td>\n",
       "    </tr>\n",
       "    <tr>\n",
       "      <th>2020-03-26</th>\n",
       "      <td>-0.009731</td>\n",
       "      <td>0.003194</td>\n",
       "      <td>0.001861</td>\n",
       "      <td>0.036933</td>\n",
       "    </tr>\n",
       "    <tr>\n",
       "      <th>2020-03-27</th>\n",
       "      <td>0.015174</td>\n",
       "      <td>-0.008536</td>\n",
       "      <td>0.005626</td>\n",
       "      <td>-0.028325</td>\n",
       "    </tr>\n",
       "  </tbody>\n",
       "</table>\n",
       "<p>5032 rows × 4 columns</p>\n",
       "</div>"
      ],
      "text/plain": [
       "                OPEN      HIGH       LOW     CLOSE\n",
       "date                                              \n",
       "2000-03-28  0.001799 -0.031678 -0.031777 -0.041023\n",
       "2000-03-29 -0.039790 -0.039450 -0.064344 -0.055326\n",
       "2000-03-30 -0.071942 -0.035776 -0.015385  0.003774\n",
       "2000-03-31  0.034884 -0.003710 -0.015625  0.007519\n",
       "2000-04-03 -0.019625 -0.021451 -0.015873 -0.051343\n",
       "...              ...       ...       ...       ...\n",
       "2020-03-23 -0.051165 -0.019213 -0.004795  0.030735\n",
       "2020-03-24  0.067985  0.018547  0.048753  0.019587\n",
       "2020-03-25 -0.016045 -0.002425 -0.007662 -0.027968\n",
       "2020-03-26 -0.009731  0.003194  0.001861  0.036933\n",
       "2020-03-27  0.015174 -0.008536  0.005626 -0.028325\n",
       "\n",
       "[5032 rows x 4 columns]"
      ]
     },
     "execution_count": 14,
     "metadata": {},
     "output_type": "execute_result"
    }
   ],
   "source": [
    "amzn = amzn[['OPEN', 'HIGH', 'LOW', 'CLOSE']].pct_change(1).dropna()\n",
    "amzn"
   ]
  },
  {
   "cell_type": "markdown",
   "metadata": {},
   "source": [
    "##### Set of data"
   ]
  },
  {
   "cell_type": "code",
   "execution_count": 15,
   "metadata": {},
   "outputs": [],
   "source": [
    "a = 3960\n",
    "l = len(amzn)\n",
    "\n",
    "\n",
    "X_train = amzn.iloc[0:a-1,:].values\n",
    "X_visu = amzn.iloc[a:l-1,:].values\n",
    "\n",
    "y_train = amzn[[\"CLOSE\"]].iloc[1:a,:].values\n",
    "y_visu = amzn[[\"CLOSE\"]].iloc[a+1:l,:].values"
   ]
  },
  {
   "cell_type": "code",
   "execution_count": null,
   "metadata": {},
   "outputs": [],
   "source": []
  },
  {
   "cell_type": "markdown",
   "metadata": {},
   "source": [
    "##### Linear Regression \n",
    "The objective of a regression in statistics and to be able to predict the behavior of a variable based on other variables. Here, with the X the regression tries to predict the behavior of y. Thus, we try to predict the future price of an asset using OHLCV data.\n",
    "\n",
    "\n",
    "```price(t+1)  = x1 * Open(t) + x2 * High(t) + x3 * Low(t) + x4 * Close(t) + x5 * Volume(t) ```\n",
    "\n",
    "\n",
    "The objective of regression is to find the vector of coefficient X which will make the equation the most precise."
   ]
  },
  {
   "cell_type": "code",
   "execution_count": 16,
   "metadata": {},
   "outputs": [
    {
     "data": {
      "text/plain": [
       "LinearRegression(copy_X=True, fit_intercept=True, n_jobs=None, normalize=False)"
      ]
     },
     "execution_count": 16,
     "metadata": {},
     "output_type": "execute_result"
    }
   ],
   "source": [
    "from sklearn.linear_model import LinearRegression\n",
    "rl = LinearRegression()\n",
    "rl.fit(X_train, y_train)"
   ]
  },
  {
   "cell_type": "markdown",
   "metadata": {},
   "source": [
    "##### Prévision"
   ]
  },
  {
   "cell_type": "code",
   "execution_count": 17,
   "metadata": {},
   "outputs": [],
   "source": [
    "y_pred = rl.predict(X_visu)"
   ]
  },
  {
   "cell_type": "code",
   "execution_count": 18,
   "metadata": {},
   "outputs": [
    {
     "data": {
      "text/plain": [
       "array([[ 0.00068958],\n",
       "       [ 0.00204251],\n",
       "       [ 0.00131111],\n",
       "       ...,\n",
       "       [-0.00038896],\n",
       "       [ 0.0033549 ],\n",
       "       [ 0.00018118]])"
      ]
     },
     "execution_count": 18,
     "metadata": {},
     "output_type": "execute_result"
    }
   ],
   "source": [
    "y_pred"
   ]
  },
  {
   "cell_type": "code",
   "execution_count": 19,
   "metadata": {},
   "outputs": [
    {
     "data": {
      "text/html": [
       "<div>\n",
       "<style scoped>\n",
       "    .dataframe tbody tr th:only-of-type {\n",
       "        vertical-align: middle;\n",
       "    }\n",
       "\n",
       "    .dataframe tbody tr th {\n",
       "        vertical-align: top;\n",
       "    }\n",
       "\n",
       "    .dataframe thead th {\n",
       "        text-align: right;\n",
       "    }\n",
       "</style>\n",
       "<table border=\"1\" class=\"dataframe\">\n",
       "  <thead>\n",
       "    <tr style=\"text-align: right;\">\n",
       "      <th></th>\n",
       "      <th>0</th>\n",
       "    </tr>\n",
       "  </thead>\n",
       "  <tbody>\n",
       "    <tr>\n",
       "      <th>0</th>\n",
       "      <td>0.000690</td>\n",
       "    </tr>\n",
       "    <tr>\n",
       "      <th>1</th>\n",
       "      <td>0.002043</td>\n",
       "    </tr>\n",
       "    <tr>\n",
       "      <th>2</th>\n",
       "      <td>0.001311</td>\n",
       "    </tr>\n",
       "    <tr>\n",
       "      <th>3</th>\n",
       "      <td>0.001245</td>\n",
       "    </tr>\n",
       "    <tr>\n",
       "      <th>4</th>\n",
       "      <td>0.000917</td>\n",
       "    </tr>\n",
       "    <tr>\n",
       "      <th>...</th>\n",
       "      <td>...</td>\n",
       "    </tr>\n",
       "    <tr>\n",
       "      <th>1066</th>\n",
       "      <td>-0.000947</td>\n",
       "    </tr>\n",
       "    <tr>\n",
       "      <th>1067</th>\n",
       "      <td>0.002251</td>\n",
       "    </tr>\n",
       "    <tr>\n",
       "      <th>1068</th>\n",
       "      <td>-0.000389</td>\n",
       "    </tr>\n",
       "    <tr>\n",
       "      <th>1069</th>\n",
       "      <td>0.003355</td>\n",
       "    </tr>\n",
       "    <tr>\n",
       "      <th>1070</th>\n",
       "      <td>0.000181</td>\n",
       "    </tr>\n",
       "  </tbody>\n",
       "</table>\n",
       "<p>1071 rows × 1 columns</p>\n",
       "</div>"
      ],
      "text/plain": [
       "             0\n",
       "0     0.000690\n",
       "1     0.002043\n",
       "2     0.001311\n",
       "3     0.001245\n",
       "4     0.000917\n",
       "...        ...\n",
       "1066 -0.000947\n",
       "1067  0.002251\n",
       "1068 -0.000389\n",
       "1069  0.003355\n",
       "1070  0.000181\n",
       "\n",
       "[1071 rows x 1 columns]"
      ]
     },
     "execution_count": 19,
     "metadata": {},
     "output_type": "execute_result"
    }
   ],
   "source": [
    "pds.DataFrame(y_pred)"
   ]
  },
  {
   "cell_type": "markdown",
   "metadata": {},
   "source": [
    "##### Visualization"
   ]
  },
  {
   "cell_type": "code",
   "execution_count": 20,
   "metadata": {},
   "outputs": [
    {
     "data": {
      "image/png": "[encoded data removed]",
      "text/plain": [
       "<Figure size 1080x720 with 1 Axes>"
      ]
     },
     "metadata": {
      "needs_background": "light"
     },
     "output_type": "display_data"
    },
    {
     "data": {
      "image/png": "[encoded data removed]",
      "text/plain": [
       "<Figure size 1080x720 with 1 Axes>"
      ]
     },
     "metadata": {
      "needs_background": "light"
     },
     "output_type": "display_data"
    }
   ],
   "source": [
    "plt.figure(figsize=(15,10))\n",
    "plt.plot(y_pred, color=\"teal\", label=\"y_prediction\")\n",
    "plt.plot(y_visu, color=\"green\", alpha=0.15, label = \"y_value\", linewidth=5)\n",
    "plt.legend()\n",
    "plt.show()\n",
    "\n",
    "plt.figure(figsize=(15,10))\n",
    "plt.scatter(y_pred, y_visu, label=\"y_prediction\")\n",
    "plt.show()\n"
   ]
  },
  {
   "cell_type": "markdown",
   "metadata": {},
   "source": [
    "##### Earnings"
   ]
  },
  {
   "cell_type": "code",
   "execution_count": 1,
   "metadata": {},
   "outputs": [],
   "source": [
    "def earning(tx_pred, tx_visu, sb=0.00, sh=0.00, spread=0.0005):\n",
    "    # Initialisation\n",
    "    l = len(tx_pred)\n",
    "    earning = np.zeros(l).reshape(l,1)\n",
    "    \n",
    "    #Earning\n",
    "    for i in range(l):\n",
    "        if tx_pred[i][0]>sh:\n",
    "            earning[i][0] = (tx_visu[i][0])-spread\n",
    "        if tx_pred[i][0]<-sb:\n",
    "            earning[i][0] = (-tx_visu[i][0])-spread\n",
    "    return earning"
   ]
  },
  {
   "cell_type": "code",
   "execution_count": null,
   "metadata": {},
   "outputs": [],
   "source": [
    "earning = earning(y_pred, y_visu)"
   ]
  },
  {
   "cell_type": "code",
   "execution_count": 89,
   "metadata": {},
   "outputs": [
    {
     "data": {
      "text/plain": [
       "[<matplotlib.lines.Line2D at 0x1a1abde790>]"
      ]
     },
     "execution_count": 89,
     "metadata": {},
     "output_type": "execute_result"
    },
    {
     "data": {
      "image/png": "[encoded data removed]",
      "text/plain": [
       "<Figure size 432x288 with 1 Axes>"
      ]
     },
     "metadata": {
      "needs_background": "light"
     },
     "output_type": "display_data"
    }
   ],
   "source": [
    "plt.plot(earning)"
   ]
  },
  {
   "cell_type": "markdown",
   "metadata": {},
   "source": [
    "###### Statistics"
   ]
  },
  {
   "cell_type": "code",
   "execution_count": 173,
   "metadata": {},
   "outputs": [
    {
     "name": "stdout",
     "output_type": "stream",
     "text": [
      "Average = 0.10423665649099562 %\n"
     ]
    }
   ],
   "source": [
    "print(\"Average = {} %\".format(np.mean(earning[earning!=0])*100)"
   ]
  },
  {
   "cell_type": "code",
   "execution_count": 174,
   "metadata": {},
   "outputs": [
    {
     "name": "stdout",
     "output_type": "stream",
     "text": [
      "StandardDeviation = 1.8359584266549742 %\n"
     ]
    }
   ],
   "source": [
    "print(\"StandardDeviation = {} %\".format(np.std(earning[earning!=0])*100)"
   ]
  },
  {
   "cell_type": "code",
   "execution_count": 175,
   "metadata": {},
   "outputs": [
    {
     "name": "stdout",
     "output_type": "stream",
     "text": [
      "SharpeRatio = 0.05677506362761692\n"
     ]
    }
   ],
   "source": [
    "print(\"SharpeRatio = {}\".format(np.mean(earning[earning!=0])/np.std(earning[earning!=0])))"
   ]
  },
  {
   "cell_type": "code",
   "execution_count": 176,
   "metadata": {},
   "outputs": [
    {
     "name": "stdout",
     "output_type": "stream",
     "text": [
      "DownStandardDeviation = 1.2623040361115703 %\n"
     ]
    }
   ],
   "source": [
    "print(\"DownStandardDeviation = {} %\".format(np.std(earning[earning<0])*100)"
   ]
  },
  {
   "cell_type": "code",
   "execution_count": 177,
   "metadata": {},
   "outputs": [
    {
     "name": "stdout",
     "output_type": "stream",
     "text": [
      "SoritnoRatio = 0.08257650574586496\n"
     ]
    }
   ],
   "source": [
    "print(\"SoritnoRatio = {}\".format(np.mean(earning[earning!=0])/np.std(earning[earning<0])))"
   ]
  },
  {
   "cell_type": "code",
   "execution_count": null,
   "metadata": {},
   "outputs": [],
   "source": [
    "print(\"Sum = {} %\".format(np.sum(earning[earning!=0])*100, 3))"
   ]
  },
  {
   "cell_type": "code",
   "execution_count": 78,
   "metadata": {},
   "outputs": [
    {
     "name": "stdout",
     "output_type": "stream",
     "text": [
      "------------------ Initialisation -----------------------\n",
      "Rising threshold: 0.0\n",
      "Lower threshold: 0.0\n",
      "Spread: 0.0005\n",
      "Leverage: 1\n",
      "                                                           \n",
      "---------------------- Metrics ----------------------------\n",
      "Accuracy 53.78 %\n",
      "Pourcentage of earnings: 107.82 %\n",
      "Poucentage composed: 145.23 %\n",
      "Ratio earning/trade: 0.1 %\n",
      "Standard deviation of earning: 1.84 %\n",
      "Sharpe ratio: 0.054673\n",
      "Sortino ratio: 0.075621\n",
      "                                                           \n",
      "-------------------- Other Data -----------------------\n",
      "Sum rise earning: 91.82 %\n",
      "Sum drop earning: 16.0 %\n",
      "Max rise earning: 13.17 %\n",
      "Min rise earning: -7.97 %\n",
      "Max drop earning: 5.82 %\n",
      "Min drop earning: -3.85 %\n",
      "                                                           \n",
      "-------------------- Distribution -----------------------\n"
     ]
    },
    {
     "data": {
      "image/png": "[encoded data removed]",
      "text/plain": [
       "<Figure size 432x288 with 1 Axes>"
      ]
     },
     "metadata": {
      "needs_background": "light"
     },
     "output_type": "display_data"
    },
    {
     "name": "stdout",
     "output_type": "stream",
     "text": [
      "                                                           \n",
      "-------------------- Growth -----------------------\n"
     ]
    },
    {
     "data": {
      "image/png": "[encoded data removed]",
      "text/plain": [
       "<Figure size 432x288 with 1 Axes>"
      ]
     },
     "metadata": {
      "needs_background": "light"
     },
     "output_type": "display_data"
    }
   ],
   "source": [
    "##### This is backtesting of the chapter 5\n",
    "##### We must read the chapter 5 to undertand\n",
    "from earning import*\n",
    "y_pred = y_pred.reshape(len(y_pred),1)\n",
    "earning(y_pred,y_visu)"
   ]
  },
  {
   "cell_type": "code",
   "execution_count": null,
   "metadata": {},
   "outputs": [],
   "source": []
  },
  {
   "cell_type": "code",
   "execution_count": null,
   "metadata": {},
   "outputs": [],
   "source": []
  },
  {
   "cell_type": "code",
   "execution_count": null,
   "metadata": {},
   "outputs": [],
   "source": []
  },
  {
   "cell_type": "code",
   "execution_count": null,
   "metadata": {},
   "outputs": [],
   "source": []
  },
  {
   "cell_type": "code",
   "execution_count": null,
   "metadata": {},
   "outputs": [],
   "source": []
  },
  {
   "cell_type": "code",
   "execution_count": null,
   "metadata": {},
   "outputs": [],
   "source": []
  },
  {
   "cell_type": "code",
   "execution_count": null,
   "metadata": {},
   "outputs": [],
   "source": []
  },
  {
   "cell_type": "code",
   "execution_count": null,
   "metadata": {},
   "outputs": [],
   "source": []
  },
  {
   "cell_type": "code",
   "execution_count": null,
   "metadata": {},
   "outputs": [],
   "source": []
  },
  {
   "cell_type": "code",
   "execution_count": null,
   "metadata": {},
   "outputs": [],
   "source": []
  },
  {
   "cell_type": "code",
   "execution_count": null,
   "metadata": {},
   "outputs": [],
   "source": []
  }
 ],
 "metadata": {
  "kernelspec": {
   "display_name": "Python 3",
   "language": "python",
   "name": "python3"
  },
  "language_info": {
   "codemirror_mode": {
    "name": "ipython",
    "version": 3
   },
   "file_extension": ".py",
   "mimetype": "text/x-python",
   "name": "python",
   "nbconvert_exporter": "python",
   "pygments_lexer": "ipython3",
   "version": "3.7.6"
  }
 },
 "nbformat": 4,
 "nbformat_minor": 4
}
