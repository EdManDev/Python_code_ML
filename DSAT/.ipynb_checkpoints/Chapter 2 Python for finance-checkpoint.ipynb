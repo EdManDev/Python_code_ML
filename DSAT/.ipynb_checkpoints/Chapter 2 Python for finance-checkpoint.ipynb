{
 "cells": [
  {
   "cell_type": "markdown",
   "metadata": {},
   "source": [
    "# Chapter 2"
   ]
  },
  {
   "cell_type": "code",
   "execution_count": 1,
   "metadata": {},
   "outputs": [],
   "source": [
    "import numpy as np\n",
    "import pandas as pds\n",
    "import matplotlib.pyplot as plt\n",
    "%matplotlib inline"
   ]
  },
  {
   "cell_type": "markdown",
   "metadata": {},
   "source": [
    "##### Data import"
   ]
  },
  {
   "cell_type": "code",
   "execution_count": 2,
   "metadata": {},
   "outputs": [],
   "source": [
    "database = pds.read_csv(\"sp500.csv\")"
   ]
  },
  {
   "cell_type": "code",
   "execution_count": 3,
   "metadata": {},
   "outputs": [
    {
     "data": {
      "text/html": [
       "<div>\n",
       "<style scoped>\n",
       "    .dataframe tbody tr th:only-of-type {\n",
       "        vertical-align: middle;\n",
       "    }\n",
       "\n",
       "    .dataframe tbody tr th {\n",
       "        vertical-align: top;\n",
       "    }\n",
       "\n",
       "    .dataframe thead th {\n",
       "        text-align: right;\n",
       "    }\n",
       "</style>\n",
       "<table border=\"1\" class=\"dataframe\">\n",
       "  <thead>\n",
       "    <tr style=\"text-align: right;\">\n",
       "      <th></th>\n",
       "      <th>Date</th>\n",
       "      <th>Open</th>\n",
       "      <th>High</th>\n",
       "      <th>Low</th>\n",
       "      <th>Close</th>\n",
       "      <th>Adj Close</th>\n",
       "      <th>Volume</th>\n",
       "    </tr>\n",
       "  </thead>\n",
       "  <tbody>\n",
       "    <tr>\n",
       "      <th>0</th>\n",
       "      <td>2015-01-02</td>\n",
       "      <td>2058.899902</td>\n",
       "      <td>2072.360107</td>\n",
       "      <td>2046.040039</td>\n",
       "      <td>2058.199951</td>\n",
       "      <td>2058.199951</td>\n",
       "      <td>2708700000</td>\n",
       "    </tr>\n",
       "    <tr>\n",
       "      <th>1</th>\n",
       "      <td>2015-01-05</td>\n",
       "      <td>2054.439941</td>\n",
       "      <td>2054.439941</td>\n",
       "      <td>2017.339966</td>\n",
       "      <td>2020.579956</td>\n",
       "      <td>2020.579956</td>\n",
       "      <td>3799120000</td>\n",
       "    </tr>\n",
       "    <tr>\n",
       "      <th>2</th>\n",
       "      <td>2015-01-06</td>\n",
       "      <td>2022.150024</td>\n",
       "      <td>2030.250000</td>\n",
       "      <td>1992.439941</td>\n",
       "      <td>2002.609985</td>\n",
       "      <td>2002.609985</td>\n",
       "      <td>4460110000</td>\n",
       "    </tr>\n",
       "    <tr>\n",
       "      <th>3</th>\n",
       "      <td>2015-01-07</td>\n",
       "      <td>2005.550049</td>\n",
       "      <td>2029.609985</td>\n",
       "      <td>2005.550049</td>\n",
       "      <td>2025.900024</td>\n",
       "      <td>2025.900024</td>\n",
       "      <td>3805480000</td>\n",
       "    </tr>\n",
       "    <tr>\n",
       "      <th>4</th>\n",
       "      <td>2015-01-08</td>\n",
       "      <td>2030.609985</td>\n",
       "      <td>2064.080078</td>\n",
       "      <td>2030.609985</td>\n",
       "      <td>2062.139893</td>\n",
       "      <td>2062.139893</td>\n",
       "      <td>3934010000</td>\n",
       "    </tr>\n",
       "    <tr>\n",
       "      <th>...</th>\n",
       "      <td>...</td>\n",
       "      <td>...</td>\n",
       "      <td>...</td>\n",
       "      <td>...</td>\n",
       "      <td>...</td>\n",
       "      <td>...</td>\n",
       "      <td>...</td>\n",
       "    </tr>\n",
       "    <tr>\n",
       "      <th>750</th>\n",
       "      <td>2017-12-22</td>\n",
       "      <td>2684.219971</td>\n",
       "      <td>2685.350098</td>\n",
       "      <td>2678.129883</td>\n",
       "      <td>2683.340088</td>\n",
       "      <td>2683.340088</td>\n",
       "      <td>2399830000</td>\n",
       "    </tr>\n",
       "    <tr>\n",
       "      <th>751</th>\n",
       "      <td>2017-12-26</td>\n",
       "      <td>2679.090088</td>\n",
       "      <td>2682.739990</td>\n",
       "      <td>2677.959961</td>\n",
       "      <td>2680.500000</td>\n",
       "      <td>2680.500000</td>\n",
       "      <td>1968780000</td>\n",
       "    </tr>\n",
       "    <tr>\n",
       "      <th>752</th>\n",
       "      <td>2017-12-27</td>\n",
       "      <td>2682.100098</td>\n",
       "      <td>2685.639893</td>\n",
       "      <td>2678.909912</td>\n",
       "      <td>2682.620117</td>\n",
       "      <td>2682.620117</td>\n",
       "      <td>2202080000</td>\n",
       "    </tr>\n",
       "    <tr>\n",
       "      <th>753</th>\n",
       "      <td>2017-12-28</td>\n",
       "      <td>2686.100098</td>\n",
       "      <td>2687.659912</td>\n",
       "      <td>2682.689941</td>\n",
       "      <td>2687.540039</td>\n",
       "      <td>2687.540039</td>\n",
       "      <td>2153330000</td>\n",
       "    </tr>\n",
       "    <tr>\n",
       "      <th>754</th>\n",
       "      <td>2017-12-29</td>\n",
       "      <td>2689.149902</td>\n",
       "      <td>2692.120117</td>\n",
       "      <td>2673.610107</td>\n",
       "      <td>2673.610107</td>\n",
       "      <td>2673.610107</td>\n",
       "      <td>2443490000</td>\n",
       "    </tr>\n",
       "  </tbody>\n",
       "</table>\n",
       "<p>755 rows × 7 columns</p>\n",
       "</div>"
      ],
      "text/plain": [
       "           Date         Open         High          Low        Close  \\\n",
       "0    2015-01-02  2058.899902  2072.360107  2046.040039  2058.199951   \n",
       "1    2015-01-05  2054.439941  2054.439941  2017.339966  2020.579956   \n",
       "2    2015-01-06  2022.150024  2030.250000  1992.439941  2002.609985   \n",
       "3    2015-01-07  2005.550049  2029.609985  2005.550049  2025.900024   \n",
       "4    2015-01-08  2030.609985  2064.080078  2030.609985  2062.139893   \n",
       "..          ...          ...          ...          ...          ...   \n",
       "750  2017-12-22  2684.219971  2685.350098  2678.129883  2683.340088   \n",
       "751  2017-12-26  2679.090088  2682.739990  2677.959961  2680.500000   \n",
       "752  2017-12-27  2682.100098  2685.639893  2678.909912  2682.620117   \n",
       "753  2017-12-28  2686.100098  2687.659912  2682.689941  2687.540039   \n",
       "754  2017-12-29  2689.149902  2692.120117  2673.610107  2673.610107   \n",
       "\n",
       "       Adj Close      Volume  \n",
       "0    2058.199951  2708700000  \n",
       "1    2020.579956  3799120000  \n",
       "2    2002.609985  4460110000  \n",
       "3    2025.900024  3805480000  \n",
       "4    2062.139893  3934010000  \n",
       "..           ...         ...  \n",
       "750  2683.340088  2399830000  \n",
       "751  2680.500000  1968780000  \n",
       "752  2682.620117  2202080000  \n",
       "753  2687.540039  2153330000  \n",
       "754  2673.610107  2443490000  \n",
       "\n",
       "[755 rows x 7 columns]"
      ]
     },
     "execution_count": 3,
     "metadata": {},
     "output_type": "execute_result"
    }
   ],
   "source": [
    "database"
   ]
  },
  {
   "cell_type": "code",
   "execution_count": 4,
   "metadata": {},
   "outputs": [],
   "source": [
    "database = pds.read_csv(\"sp500.csv\", index_col=\"Date\", parse_dates=True)"
   ]
  },
  {
   "cell_type": "code",
   "execution_count": 5,
   "metadata": {},
   "outputs": [
    {
     "data": {
      "text/html": [
       "<div>\n",
       "<style scoped>\n",
       "    .dataframe tbody tr th:only-of-type {\n",
       "        vertical-align: middle;\n",
       "    }\n",
       "\n",
       "    .dataframe tbody tr th {\n",
       "        vertical-align: top;\n",
       "    }\n",
       "\n",
       "    .dataframe thead th {\n",
       "        text-align: right;\n",
       "    }\n",
       "</style>\n",
       "<table border=\"1\" class=\"dataframe\">\n",
       "  <thead>\n",
       "    <tr style=\"text-align: right;\">\n",
       "      <th></th>\n",
       "      <th>Open</th>\n",
       "      <th>High</th>\n",
       "      <th>Low</th>\n",
       "      <th>Close</th>\n",
       "      <th>Adj Close</th>\n",
       "      <th>Volume</th>\n",
       "    </tr>\n",
       "    <tr>\n",
       "      <th>Date</th>\n",
       "      <th></th>\n",
       "      <th></th>\n",
       "      <th></th>\n",
       "      <th></th>\n",
       "      <th></th>\n",
       "      <th></th>\n",
       "    </tr>\n",
       "  </thead>\n",
       "  <tbody>\n",
       "    <tr>\n",
       "      <th>2015-01-02</th>\n",
       "      <td>2058.899902</td>\n",
       "      <td>2072.360107</td>\n",
       "      <td>2046.040039</td>\n",
       "      <td>2058.199951</td>\n",
       "      <td>2058.199951</td>\n",
       "      <td>2708700000</td>\n",
       "    </tr>\n",
       "    <tr>\n",
       "      <th>2015-01-05</th>\n",
       "      <td>2054.439941</td>\n",
       "      <td>2054.439941</td>\n",
       "      <td>2017.339966</td>\n",
       "      <td>2020.579956</td>\n",
       "      <td>2020.579956</td>\n",
       "      <td>3799120000</td>\n",
       "    </tr>\n",
       "    <tr>\n",
       "      <th>2015-01-06</th>\n",
       "      <td>2022.150024</td>\n",
       "      <td>2030.250000</td>\n",
       "      <td>1992.439941</td>\n",
       "      <td>2002.609985</td>\n",
       "      <td>2002.609985</td>\n",
       "      <td>4460110000</td>\n",
       "    </tr>\n",
       "    <tr>\n",
       "      <th>2015-01-07</th>\n",
       "      <td>2005.550049</td>\n",
       "      <td>2029.609985</td>\n",
       "      <td>2005.550049</td>\n",
       "      <td>2025.900024</td>\n",
       "      <td>2025.900024</td>\n",
       "      <td>3805480000</td>\n",
       "    </tr>\n",
       "    <tr>\n",
       "      <th>2015-01-08</th>\n",
       "      <td>2030.609985</td>\n",
       "      <td>2064.080078</td>\n",
       "      <td>2030.609985</td>\n",
       "      <td>2062.139893</td>\n",
       "      <td>2062.139893</td>\n",
       "      <td>3934010000</td>\n",
       "    </tr>\n",
       "    <tr>\n",
       "      <th>...</th>\n",
       "      <td>...</td>\n",
       "      <td>...</td>\n",
       "      <td>...</td>\n",
       "      <td>...</td>\n",
       "      <td>...</td>\n",
       "      <td>...</td>\n",
       "    </tr>\n",
       "    <tr>\n",
       "      <th>2017-12-22</th>\n",
       "      <td>2684.219971</td>\n",
       "      <td>2685.350098</td>\n",
       "      <td>2678.129883</td>\n",
       "      <td>2683.340088</td>\n",
       "      <td>2683.340088</td>\n",
       "      <td>2399830000</td>\n",
       "    </tr>\n",
       "    <tr>\n",
       "      <th>2017-12-26</th>\n",
       "      <td>2679.090088</td>\n",
       "      <td>2682.739990</td>\n",
       "      <td>2677.959961</td>\n",
       "      <td>2680.500000</td>\n",
       "      <td>2680.500000</td>\n",
       "      <td>1968780000</td>\n",
       "    </tr>\n",
       "    <tr>\n",
       "      <th>2017-12-27</th>\n",
       "      <td>2682.100098</td>\n",
       "      <td>2685.639893</td>\n",
       "      <td>2678.909912</td>\n",
       "      <td>2682.620117</td>\n",
       "      <td>2682.620117</td>\n",
       "      <td>2202080000</td>\n",
       "    </tr>\n",
       "    <tr>\n",
       "      <th>2017-12-28</th>\n",
       "      <td>2686.100098</td>\n",
       "      <td>2687.659912</td>\n",
       "      <td>2682.689941</td>\n",
       "      <td>2687.540039</td>\n",
       "      <td>2687.540039</td>\n",
       "      <td>2153330000</td>\n",
       "    </tr>\n",
       "    <tr>\n",
       "      <th>2017-12-29</th>\n",
       "      <td>2689.149902</td>\n",
       "      <td>2692.120117</td>\n",
       "      <td>2673.610107</td>\n",
       "      <td>2673.610107</td>\n",
       "      <td>2673.610107</td>\n",
       "      <td>2443490000</td>\n",
       "    </tr>\n",
       "  </tbody>\n",
       "</table>\n",
       "<p>755 rows × 6 columns</p>\n",
       "</div>"
      ],
      "text/plain": [
       "                   Open         High          Low        Close    Adj Close  \\\n",
       "Date                                                                          \n",
       "2015-01-02  2058.899902  2072.360107  2046.040039  2058.199951  2058.199951   \n",
       "2015-01-05  2054.439941  2054.439941  2017.339966  2020.579956  2020.579956   \n",
       "2015-01-06  2022.150024  2030.250000  1992.439941  2002.609985  2002.609985   \n",
       "2015-01-07  2005.550049  2029.609985  2005.550049  2025.900024  2025.900024   \n",
       "2015-01-08  2030.609985  2064.080078  2030.609985  2062.139893  2062.139893   \n",
       "...                 ...          ...          ...          ...          ...   \n",
       "2017-12-22  2684.219971  2685.350098  2678.129883  2683.340088  2683.340088   \n",
       "2017-12-26  2679.090088  2682.739990  2677.959961  2680.500000  2680.500000   \n",
       "2017-12-27  2682.100098  2685.639893  2678.909912  2682.620117  2682.620117   \n",
       "2017-12-28  2686.100098  2687.659912  2682.689941  2687.540039  2687.540039   \n",
       "2017-12-29  2689.149902  2692.120117  2673.610107  2673.610107  2673.610107   \n",
       "\n",
       "                Volume  \n",
       "Date                    \n",
       "2015-01-02  2708700000  \n",
       "2015-01-05  3799120000  \n",
       "2015-01-06  4460110000  \n",
       "2015-01-07  3805480000  \n",
       "2015-01-08  3934010000  \n",
       "...                ...  \n",
       "2017-12-22  2399830000  \n",
       "2017-12-26  1968780000  \n",
       "2017-12-27  2202080000  \n",
       "2017-12-28  2153330000  \n",
       "2017-12-29  2443490000  \n",
       "\n",
       "[755 rows x 6 columns]"
      ]
     },
     "execution_count": 5,
     "metadata": {},
     "output_type": "execute_result"
    }
   ],
   "source": [
    "database"
   ]
  },
  {
   "cell_type": "markdown",
   "metadata": {},
   "source": [
    "###### Variation"
   ]
  },
  {
   "cell_type": "code",
   "execution_count": 6,
   "metadata": {},
   "outputs": [],
   "source": [
    "pctdata = database.pct_change(1)"
   ]
  },
  {
   "cell_type": "code",
   "execution_count": 7,
   "metadata": {},
   "outputs": [
    {
     "data": {
      "text/html": [
       "<div>\n",
       "<style scoped>\n",
       "    .dataframe tbody tr th:only-of-type {\n",
       "        vertical-align: middle;\n",
       "    }\n",
       "\n",
       "    .dataframe tbody tr th {\n",
       "        vertical-align: top;\n",
       "    }\n",
       "\n",
       "    .dataframe thead th {\n",
       "        text-align: right;\n",
       "    }\n",
       "</style>\n",
       "<table border=\"1\" class=\"dataframe\">\n",
       "  <thead>\n",
       "    <tr style=\"text-align: right;\">\n",
       "      <th></th>\n",
       "      <th>Open</th>\n",
       "      <th>High</th>\n",
       "      <th>Low</th>\n",
       "      <th>Close</th>\n",
       "      <th>Adj Close</th>\n",
       "      <th>Volume</th>\n",
       "    </tr>\n",
       "    <tr>\n",
       "      <th>Date</th>\n",
       "      <th></th>\n",
       "      <th></th>\n",
       "      <th></th>\n",
       "      <th></th>\n",
       "      <th></th>\n",
       "      <th></th>\n",
       "    </tr>\n",
       "  </thead>\n",
       "  <tbody>\n",
       "    <tr>\n",
       "      <th>2015-01-02</th>\n",
       "      <td>NaN</td>\n",
       "      <td>NaN</td>\n",
       "      <td>NaN</td>\n",
       "      <td>NaN</td>\n",
       "      <td>NaN</td>\n",
       "      <td>NaN</td>\n",
       "    </tr>\n",
       "    <tr>\n",
       "      <th>2015-01-05</th>\n",
       "      <td>-0.002166</td>\n",
       "      <td>-0.008647</td>\n",
       "      <td>-0.014027</td>\n",
       "      <td>-0.018278</td>\n",
       "      <td>-0.018278</td>\n",
       "      <td>0.402562</td>\n",
       "    </tr>\n",
       "    <tr>\n",
       "      <th>2015-01-06</th>\n",
       "      <td>-0.015717</td>\n",
       "      <td>-0.011774</td>\n",
       "      <td>-0.012343</td>\n",
       "      <td>-0.008893</td>\n",
       "      <td>-0.008893</td>\n",
       "      <td>0.173985</td>\n",
       "    </tr>\n",
       "    <tr>\n",
       "      <th>2015-01-07</th>\n",
       "      <td>-0.008209</td>\n",
       "      <td>-0.000315</td>\n",
       "      <td>0.006580</td>\n",
       "      <td>0.011630</td>\n",
       "      <td>0.011630</td>\n",
       "      <td>-0.146774</td>\n",
       "    </tr>\n",
       "    <tr>\n",
       "      <th>2015-01-08</th>\n",
       "      <td>0.012495</td>\n",
       "      <td>0.016984</td>\n",
       "      <td>0.012495</td>\n",
       "      <td>0.017888</td>\n",
       "      <td>0.017888</td>\n",
       "      <td>0.033775</td>\n",
       "    </tr>\n",
       "    <tr>\n",
       "      <th>...</th>\n",
       "      <td>...</td>\n",
       "      <td>...</td>\n",
       "      <td>...</td>\n",
       "      <td>...</td>\n",
       "      <td>...</td>\n",
       "      <td>...</td>\n",
       "    </tr>\n",
       "    <tr>\n",
       "      <th>2017-12-22</th>\n",
       "      <td>0.000447</td>\n",
       "      <td>-0.002707</td>\n",
       "      <td>-0.001592</td>\n",
       "      <td>-0.000458</td>\n",
       "      <td>-0.000458</td>\n",
       "      <td>-0.266867</td>\n",
       "    </tr>\n",
       "    <tr>\n",
       "      <th>2017-12-26</th>\n",
       "      <td>-0.001911</td>\n",
       "      <td>-0.000972</td>\n",
       "      <td>-0.000063</td>\n",
       "      <td>-0.001058</td>\n",
       "      <td>-0.001058</td>\n",
       "      <td>-0.179617</td>\n",
       "    </tr>\n",
       "    <tr>\n",
       "      <th>2017-12-27</th>\n",
       "      <td>0.001124</td>\n",
       "      <td>0.001081</td>\n",
       "      <td>0.000355</td>\n",
       "      <td>0.000791</td>\n",
       "      <td>0.000791</td>\n",
       "      <td>0.118500</td>\n",
       "    </tr>\n",
       "    <tr>\n",
       "      <th>2017-12-28</th>\n",
       "      <td>0.001491</td>\n",
       "      <td>0.000752</td>\n",
       "      <td>0.001411</td>\n",
       "      <td>0.001834</td>\n",
       "      <td>0.001834</td>\n",
       "      <td>-0.022138</td>\n",
       "    </tr>\n",
       "    <tr>\n",
       "      <th>2017-12-29</th>\n",
       "      <td>0.001135</td>\n",
       "      <td>0.001660</td>\n",
       "      <td>-0.003385</td>\n",
       "      <td>-0.005183</td>\n",
       "      <td>-0.005183</td>\n",
       "      <td>0.134749</td>\n",
       "    </tr>\n",
       "  </tbody>\n",
       "</table>\n",
       "<p>755 rows × 6 columns</p>\n",
       "</div>"
      ],
      "text/plain": [
       "                Open      High       Low     Close  Adj Close    Volume\n",
       "Date                                                                   \n",
       "2015-01-02       NaN       NaN       NaN       NaN        NaN       NaN\n",
       "2015-01-05 -0.002166 -0.008647 -0.014027 -0.018278  -0.018278  0.402562\n",
       "2015-01-06 -0.015717 -0.011774 -0.012343 -0.008893  -0.008893  0.173985\n",
       "2015-01-07 -0.008209 -0.000315  0.006580  0.011630   0.011630 -0.146774\n",
       "2015-01-08  0.012495  0.016984  0.012495  0.017888   0.017888  0.033775\n",
       "...              ...       ...       ...       ...        ...       ...\n",
       "2017-12-22  0.000447 -0.002707 -0.001592 -0.000458  -0.000458 -0.266867\n",
       "2017-12-26 -0.001911 -0.000972 -0.000063 -0.001058  -0.001058 -0.179617\n",
       "2017-12-27  0.001124  0.001081  0.000355  0.000791   0.000791  0.118500\n",
       "2017-12-28  0.001491  0.000752  0.001411  0.001834   0.001834 -0.022138\n",
       "2017-12-29  0.001135  0.001660 -0.003385 -0.005183  -0.005183  0.134749\n",
       "\n",
       "[755 rows x 6 columns]"
      ]
     },
     "execution_count": 7,
     "metadata": {},
     "output_type": "execute_result"
    }
   ],
   "source": [
    "pctdata"
   ]
  },
  {
   "cell_type": "code",
   "execution_count": 8,
   "metadata": {},
   "outputs": [
    {
     "data": {
      "text/html": [
       "<div>\n",
       "<style scoped>\n",
       "    .dataframe tbody tr th:only-of-type {\n",
       "        vertical-align: middle;\n",
       "    }\n",
       "\n",
       "    .dataframe tbody tr th {\n",
       "        vertical-align: top;\n",
       "    }\n",
       "\n",
       "    .dataframe thead th {\n",
       "        text-align: right;\n",
       "    }\n",
       "</style>\n",
       "<table border=\"1\" class=\"dataframe\">\n",
       "  <thead>\n",
       "    <tr style=\"text-align: right;\">\n",
       "      <th></th>\n",
       "      <th>Open</th>\n",
       "      <th>High</th>\n",
       "      <th>Low</th>\n",
       "      <th>Close</th>\n",
       "      <th>Adj Close</th>\n",
       "      <th>Volume</th>\n",
       "    </tr>\n",
       "    <tr>\n",
       "      <th>Date</th>\n",
       "      <th></th>\n",
       "      <th></th>\n",
       "      <th></th>\n",
       "      <th></th>\n",
       "      <th></th>\n",
       "      <th></th>\n",
       "    </tr>\n",
       "  </thead>\n",
       "  <tbody>\n",
       "    <tr>\n",
       "      <th>2015-01-05</th>\n",
       "      <td>-0.002166</td>\n",
       "      <td>-0.008647</td>\n",
       "      <td>-0.014027</td>\n",
       "      <td>-0.018278</td>\n",
       "      <td>-0.018278</td>\n",
       "      <td>0.402562</td>\n",
       "    </tr>\n",
       "    <tr>\n",
       "      <th>2015-01-06</th>\n",
       "      <td>-0.015717</td>\n",
       "      <td>-0.011774</td>\n",
       "      <td>-0.012343</td>\n",
       "      <td>-0.008893</td>\n",
       "      <td>-0.008893</td>\n",
       "      <td>0.173985</td>\n",
       "    </tr>\n",
       "    <tr>\n",
       "      <th>2015-01-07</th>\n",
       "      <td>-0.008209</td>\n",
       "      <td>-0.000315</td>\n",
       "      <td>0.006580</td>\n",
       "      <td>0.011630</td>\n",
       "      <td>0.011630</td>\n",
       "      <td>-0.146774</td>\n",
       "    </tr>\n",
       "    <tr>\n",
       "      <th>2015-01-08</th>\n",
       "      <td>0.012495</td>\n",
       "      <td>0.016984</td>\n",
       "      <td>0.012495</td>\n",
       "      <td>0.017888</td>\n",
       "      <td>0.017888</td>\n",
       "      <td>0.033775</td>\n",
       "    </tr>\n",
       "    <tr>\n",
       "      <th>2015-01-09</th>\n",
       "      <td>0.016172</td>\n",
       "      <td>0.000169</td>\n",
       "      <td>0.003802</td>\n",
       "      <td>-0.008404</td>\n",
       "      <td>-0.008404</td>\n",
       "      <td>-0.144857</td>\n",
       "    </tr>\n",
       "    <tr>\n",
       "      <th>...</th>\n",
       "      <td>...</td>\n",
       "      <td>...</td>\n",
       "      <td>...</td>\n",
       "      <td>...</td>\n",
       "      <td>...</td>\n",
       "      <td>...</td>\n",
       "    </tr>\n",
       "    <tr>\n",
       "      <th>2017-12-22</th>\n",
       "      <td>0.000447</td>\n",
       "      <td>-0.002707</td>\n",
       "      <td>-0.001592</td>\n",
       "      <td>-0.000458</td>\n",
       "      <td>-0.000458</td>\n",
       "      <td>-0.266867</td>\n",
       "    </tr>\n",
       "    <tr>\n",
       "      <th>2017-12-26</th>\n",
       "      <td>-0.001911</td>\n",
       "      <td>-0.000972</td>\n",
       "      <td>-0.000063</td>\n",
       "      <td>-0.001058</td>\n",
       "      <td>-0.001058</td>\n",
       "      <td>-0.179617</td>\n",
       "    </tr>\n",
       "    <tr>\n",
       "      <th>2017-12-27</th>\n",
       "      <td>0.001124</td>\n",
       "      <td>0.001081</td>\n",
       "      <td>0.000355</td>\n",
       "      <td>0.000791</td>\n",
       "      <td>0.000791</td>\n",
       "      <td>0.118500</td>\n",
       "    </tr>\n",
       "    <tr>\n",
       "      <th>2017-12-28</th>\n",
       "      <td>0.001491</td>\n",
       "      <td>0.000752</td>\n",
       "      <td>0.001411</td>\n",
       "      <td>0.001834</td>\n",
       "      <td>0.001834</td>\n",
       "      <td>-0.022138</td>\n",
       "    </tr>\n",
       "    <tr>\n",
       "      <th>2017-12-29</th>\n",
       "      <td>0.001135</td>\n",
       "      <td>0.001660</td>\n",
       "      <td>-0.003385</td>\n",
       "      <td>-0.005183</td>\n",
       "      <td>-0.005183</td>\n",
       "      <td>0.134749</td>\n",
       "    </tr>\n",
       "  </tbody>\n",
       "</table>\n",
       "<p>754 rows × 6 columns</p>\n",
       "</div>"
      ],
      "text/plain": [
       "                Open      High       Low     Close  Adj Close    Volume\n",
       "Date                                                                   \n",
       "2015-01-05 -0.002166 -0.008647 -0.014027 -0.018278  -0.018278  0.402562\n",
       "2015-01-06 -0.015717 -0.011774 -0.012343 -0.008893  -0.008893  0.173985\n",
       "2015-01-07 -0.008209 -0.000315  0.006580  0.011630   0.011630 -0.146774\n",
       "2015-01-08  0.012495  0.016984  0.012495  0.017888   0.017888  0.033775\n",
       "2015-01-09  0.016172  0.000169  0.003802 -0.008404  -0.008404 -0.144857\n",
       "...              ...       ...       ...       ...        ...       ...\n",
       "2017-12-22  0.000447 -0.002707 -0.001592 -0.000458  -0.000458 -0.266867\n",
       "2017-12-26 -0.001911 -0.000972 -0.000063 -0.001058  -0.001058 -0.179617\n",
       "2017-12-27  0.001124  0.001081  0.000355  0.000791   0.000791  0.118500\n",
       "2017-12-28  0.001491  0.000752  0.001411  0.001834   0.001834 -0.022138\n",
       "2017-12-29  0.001135  0.001660 -0.003385 -0.005183  -0.005183  0.134749\n",
       "\n",
       "[754 rows x 6 columns]"
      ]
     },
     "execution_count": 8,
     "metadata": {},
     "output_type": "execute_result"
    }
   ],
   "source": [
    "pctdata.dropna()"
   ]
  },
  {
   "cell_type": "code",
   "execution_count": 9,
   "metadata": {},
   "outputs": [],
   "source": [
    "pctdata = pctdata.dropna()"
   ]
  },
  {
   "cell_type": "markdown",
   "metadata": {},
   "source": [
    "##### Standard deviation/mean"
   ]
  },
  {
   "cell_type": "code",
   "execution_count": 10,
   "metadata": {},
   "outputs": [
    {
     "data": {
      "text/plain": [
       "Open         0.000380\n",
       "High         0.000364\n",
       "Low          0.000382\n",
       "Close        0.000377\n",
       "Adj Close    0.000377\n",
       "Volume       0.014848\n",
       "dtype: float64"
      ]
     },
     "execution_count": 10,
     "metadata": {},
     "output_type": "execute_result"
    }
   ],
   "source": [
    "pctdata.mean()"
   ]
  },
  {
   "cell_type": "code",
   "execution_count": 43,
   "metadata": {},
   "outputs": [
    {
     "data": {
      "text/plain": [
       "Open         0.007156\n",
       "High         0.005853\n",
       "Low          0.007365\n",
       "Close        0.007772\n",
       "Adj Close    0.007772\n",
       "Volume       0.187906\n",
       "dtype: float64"
      ]
     },
     "execution_count": 43,
     "metadata": {},
     "output_type": "execute_result"
    }
   ],
   "source": [
    "pctdata.std()"
   ]
  },
  {
   "cell_type": "code",
   "execution_count": 44,
   "metadata": {},
   "outputs": [
    {
     "data": {
      "text/html": [
       "<div>\n",
       "<style scoped>\n",
       "    .dataframe tbody tr th:only-of-type {\n",
       "        vertical-align: middle;\n",
       "    }\n",
       "\n",
       "    .dataframe tbody tr th {\n",
       "        vertical-align: top;\n",
       "    }\n",
       "\n",
       "    .dataframe thead th {\n",
       "        text-align: right;\n",
       "    }\n",
       "</style>\n",
       "<table border=\"1\" class=\"dataframe\">\n",
       "  <thead>\n",
       "    <tr style=\"text-align: right;\">\n",
       "      <th></th>\n",
       "      <th>Open</th>\n",
       "      <th>High</th>\n",
       "      <th>Low</th>\n",
       "      <th>Close</th>\n",
       "      <th>Adj Close</th>\n",
       "      <th>Volume</th>\n",
       "    </tr>\n",
       "  </thead>\n",
       "  <tbody>\n",
       "    <tr>\n",
       "      <th>count</th>\n",
       "      <td>754.000000</td>\n",
       "      <td>754.000000</td>\n",
       "      <td>754.000000</td>\n",
       "      <td>754.000000</td>\n",
       "      <td>754.000000</td>\n",
       "      <td>754.000000</td>\n",
       "    </tr>\n",
       "    <tr>\n",
       "      <th>mean</th>\n",
       "      <td>0.000380</td>\n",
       "      <td>0.000364</td>\n",
       "      <td>0.000382</td>\n",
       "      <td>0.000377</td>\n",
       "      <td>0.000377</td>\n",
       "      <td>0.014848</td>\n",
       "    </tr>\n",
       "    <tr>\n",
       "      <th>std</th>\n",
       "      <td>0.007156</td>\n",
       "      <td>0.005853</td>\n",
       "      <td>0.007365</td>\n",
       "      <td>0.007772</td>\n",
       "      <td>0.007772</td>\n",
       "      <td>0.187906</td>\n",
       "    </tr>\n",
       "    <tr>\n",
       "      <th>min</th>\n",
       "      <td>-0.034395</td>\n",
       "      <td>-0.034395</td>\n",
       "      <td>-0.052707</td>\n",
       "      <td>-0.039414</td>\n",
       "      <td>-0.039414</td>\n",
       "      <td>-0.594769</td>\n",
       "    </tr>\n",
       "    <tr>\n",
       "      <th>25%</th>\n",
       "      <td>-0.002740</td>\n",
       "      <td>-0.002369</td>\n",
       "      <td>-0.002786</td>\n",
       "      <td>-0.002753</td>\n",
       "      <td>-0.002753</td>\n",
       "      <td>-0.074960</td>\n",
       "    </tr>\n",
       "    <tr>\n",
       "      <th>50%</th>\n",
       "      <td>0.000672</td>\n",
       "      <td>0.000165</td>\n",
       "      <td>0.000947</td>\n",
       "      <td>0.000291</td>\n",
       "      <td>0.000291</td>\n",
       "      <td>-0.002164</td>\n",
       "    </tr>\n",
       "    <tr>\n",
       "      <th>75%</th>\n",
       "      <td>0.003833</td>\n",
       "      <td>0.003529</td>\n",
       "      <td>0.004137</td>\n",
       "      <td>0.004083</td>\n",
       "      <td>0.004083</td>\n",
       "      <td>0.079478</td>\n",
       "    </tr>\n",
       "    <tr>\n",
       "      <th>max</th>\n",
       "      <td>0.037389</td>\n",
       "      <td>0.023936</td>\n",
       "      <td>0.037389</td>\n",
       "      <td>0.039034</td>\n",
       "      <td>0.039034</td>\n",
       "      <td>1.914449</td>\n",
       "    </tr>\n",
       "  </tbody>\n",
       "</table>\n",
       "</div>"
      ],
      "text/plain": [
       "             Open        High         Low       Close   Adj Close      Volume\n",
       "count  754.000000  754.000000  754.000000  754.000000  754.000000  754.000000\n",
       "mean     0.000380    0.000364    0.000382    0.000377    0.000377    0.014848\n",
       "std      0.007156    0.005853    0.007365    0.007772    0.007772    0.187906\n",
       "min     -0.034395   -0.034395   -0.052707   -0.039414   -0.039414   -0.594769\n",
       "25%     -0.002740   -0.002369   -0.002786   -0.002753   -0.002753   -0.074960\n",
       "50%      0.000672    0.000165    0.000947    0.000291    0.000291   -0.002164\n",
       "75%      0.003833    0.003529    0.004137    0.004083    0.004083    0.079478\n",
       "max      0.037389    0.023936    0.037389    0.039034    0.039034    1.914449"
      ]
     },
     "execution_count": 44,
     "metadata": {},
     "output_type": "execute_result"
    }
   ],
   "source": [
    "pctdata.describe()"
   ]
  },
  {
   "cell_type": "markdown",
   "metadata": {},
   "source": [
    "##### Visualization"
   ]
  },
  {
   "cell_type": "code",
   "execution_count": 48,
   "metadata": {},
   "outputs": [
    {
     "data": {
      "text/plain": [
       "<matplotlib.axes._subplots.AxesSubplot at 0x1276873d0>"
      ]
     },
     "execution_count": 48,
     "metadata": {},
     "output_type": "execute_result"
    },
    {
     "data": {
      "image/png": "[encoded data removed]",
      "text/plain": [
       "<Figure size 432x288 with 1 Axes>"
      ]
     },
     "metadata": {
      "needs_background": "light"
     },
     "output_type": "display_data"
    }
   ],
   "source": [
    "database.loc['2017-01-01': '2017-01-19','Close'].plot()"
   ]
  },
  {
   "cell_type": "code",
   "execution_count": 75,
   "metadata": {},
   "outputs": [
    {
     "data": {
      "text/plain": [
       "<matplotlib.axes._subplots.AxesSubplot at 0x12b848090>"
      ]
     },
     "execution_count": 75,
     "metadata": {},
     "output_type": "execute_result"
    },
    {
     "data": {
      "image/png": "[encoded data removed]",
      "text/plain": [
       "<Figure size 1080x720 with 1 Axes>"
      ]
     },
     "metadata": {
      "needs_background": "light"
     },
     "output_type": "display_data"
    }
   ],
   "source": [
    "database.loc['2017':'2018','Open'].plot(figsize=(15,10), title=\"S&P 500\", color=\"green\")"
   ]
  },
  {
   "cell_type": "code",
   "execution_count": 83,
   "metadata": {},
   "outputs": [
    {
     "data": {
      "text/plain": [
       "<matplotlib.axes._subplots.AxesSubplot at 0x12c86ead0>"
      ]
     },
     "execution_count": 83,
     "metadata": {},
     "output_type": "execute_result"
    },
    {
     "data": {
      "image/png": "[encoded data removed]",
      "text/plain": [
       "<Figure size 864x576 with 1 Axes>"
      ]
     },
     "metadata": {
      "needs_background": "light"
     },
     "output_type": "display_data"
    }
   ],
   "source": [
    "pctdata.loc['2017':'2018','Close'].hist(figsize=(12,8), bins=15)"
   ]
  },
  {
   "cell_type": "code",
   "execution_count": 87,
   "metadata": {},
   "outputs": [],
   "source": [
    "data = pctdata.values\n",
    "dataset = database.values"
   ]
  },
  {
   "cell_type": "code",
   "execution_count": 95,
   "metadata": {},
   "outputs": [
    {
     "data": {
      "image/png": "[encoded data removed]",
      "text/plain": [
       "<Figure size 1080x720 with 1 Axes>"
      ]
     },
     "metadata": {
      "needs_background": "light"
     },
     "output_type": "display_data"
    }
   ],
   "source": [
    "plt.figure(figsize=(15,10))\n",
    "plt.plot(dataset[:,0:1], label=\"SP500\")\n",
    "\n",
    "plt.title(\"S&P500\")\n",
    "plt.ylabel(\"Price\")\n",
    "\n",
    "plt.legend()\n",
    "plt.show()"
   ]
  },
  {
   "cell_type": "code",
   "execution_count": 99,
   "metadata": {},
   "outputs": [
    {
     "data": {
      "image/png": "[encoded data removed]",
      "text/plain": [
       "<Figure size 1080x720 with 1 Axes>"
      ]
     },
     "metadata": {
      "needs_background": "light"
     },
     "output_type": "display_data"
    }
   ],
   "source": [
    "plt.figure(figsize=(15,10))\n",
    "plt.hist(data[:,0:1], bins=55)\n",
    "\n",
    "plt.title(\"S&P500\")\n",
    "plt.ylabel(\"Price\")\n",
    "\n",
    "plt.show()"
   ]
  },
  {
   "cell_type": "markdown",
   "metadata": {},
   "source": [
    "##### Bonus: Moving Average"
   ]
  },
  {
   "cell_type": "code",
   "execution_count": 159,
   "metadata": {},
   "outputs": [],
   "source": [
    "database['Moving average 60'] = database['Close'].rolling(60).mean()"
   ]
  },
  {
   "cell_type": "code",
   "execution_count": 160,
   "metadata": {},
   "outputs": [],
   "source": [
    "database['Moving average 190'] = database['Close'].rolling(190).mean()"
   ]
  },
  {
   "cell_type": "code",
   "execution_count": 164,
   "metadata": {},
   "outputs": [
    {
     "data": {
      "text/plain": [
       "<matplotlib.axes._subplots.AxesSubplot at 0x12eb83dd0>"
      ]
     },
     "execution_count": 164,
     "metadata": {},
     "output_type": "execute_result"
    },
    {
     "data": {
      "image/png": "[encoded data removed]",
      "text/plain": [
       "<Figure size 1080x720 with 1 Axes>"
      ]
     },
     "metadata": {
      "needs_background": "light"
     },
     "output_type": "display_data"
    }
   ],
   "source": [
    "database.loc['2017': '2018', ['Close', 'Moving average 60', 'Moving average 190']].plot(figsize=(15,10))"
   ]
  },
  {
   "cell_type": "code",
   "execution_count": null,
   "metadata": {},
   "outputs": [],
   "source": []
  },
  {
   "cell_type": "code",
   "execution_count": null,
   "metadata": {},
   "outputs": [],
   "source": []
  },
  {
   "cell_type": "code",
   "execution_count": null,
   "metadata": {},
   "outputs": [],
   "source": []
  },
  {
   "cell_type": "code",
   "execution_count": null,
   "metadata": {},
   "outputs": [],
   "source": []
  }
 ],
 "metadata": {
  "kernelspec": {
   "display_name": "Python 3",
   "language": "python",
   "name": "python3"
  },
  "language_info": {
   "codemirror_mode": {
    "name": "ipython",
    "version": 3
   },
   "file_extension": ".py",
   "mimetype": "text/x-python",
   "name": "python",
   "nbconvert_exporter": "python",
   "pygments_lexer": "ipython3",
   "version": "3.7.6"
  }
 },
 "nbformat": 4,
 "nbformat_minor": 4
}
