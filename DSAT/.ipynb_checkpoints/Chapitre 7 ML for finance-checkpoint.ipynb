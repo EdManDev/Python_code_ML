{
 "cells": [
  {
   "cell_type": "markdown",
   "metadata": {},
   "source": [
    "# Chapitre 7\n",
    "\n",
    "    In this chapter, we will give examples of ML algorithms in finance. We will see the implementation of SVM, decision tree and a set method: the random drill. In addition, for each algorithm you can find an additional resource that explains how it works. \n",
    "\n",
    "\n",
    "###### Summary\n",
    "- Librairies\n",
    "- Data import\n",
    "- Preprocessing\n",
    "- SVM\n",
    "- Decision tree regressor\n",
    "- Random forest regressor\n",
    "\n",
    "\n",
    "\n",
    "##### Librairies"
   ]
  },
  {
   "cell_type": "code",
   "execution_count": 1,
   "metadata": {},
   "outputs": [],
   "source": [
    "import numpy as np\n",
    "import pandas as pds\n",
    "import matplotlib.pyplot as plt\n",
    "%matplotlib inline\n",
    "from earning import *\n",
    "import warnings\n",
    "warnings.filterwarnings(\"ignore\")"
   ]
  },
  {
   "cell_type": "markdown",
   "metadata": {},
   "source": [
    "##### Data import"
   ]
  },
  {
   "cell_type": "code",
   "execution_count": 13,
   "metadata": {},
   "outputs": [
    {
     "data": {
      "text/html": [
       "<div>\n",
       "<style scoped>\n",
       "    .dataframe tbody tr th:only-of-type {\n",
       "        vertical-align: middle;\n",
       "    }\n",
       "\n",
       "    .dataframe tbody tr th {\n",
       "        vertical-align: top;\n",
       "    }\n",
       "\n",
       "    .dataframe thead th {\n",
       "        text-align: right;\n",
       "    }\n",
       "</style>\n",
       "<table border=\"1\" class=\"dataframe\">\n",
       "  <thead>\n",
       "    <tr style=\"text-align: right;\">\n",
       "      <th></th>\n",
       "      <th>AMZN</th>\n",
       "      <th>BRENT</th>\n",
       "      <th>CAC40</th>\n",
       "      <th>NQ100</th>\n",
       "      <th>DJI30</th>\n",
       "      <th>DAX30</th>\n",
       "      <th>GOLD</th>\n",
       "      <th>EURUSD</th>\n",
       "    </tr>\n",
       "  </thead>\n",
       "  <tbody>\n",
       "    <tr>\n",
       "      <th>AMZN</th>\n",
       "      <td>1.000000</td>\n",
       "      <td>0.084717</td>\n",
       "      <td>0.249741</td>\n",
       "      <td>0.514384</td>\n",
       "      <td>0.349835</td>\n",
       "      <td>0.265606</td>\n",
       "      <td>0.003917</td>\n",
       "      <td>0.040916</td>\n",
       "    </tr>\n",
       "    <tr>\n",
       "      <th>BRENT</th>\n",
       "      <td>0.084717</td>\n",
       "      <td>1.000000</td>\n",
       "      <td>0.303573</td>\n",
       "      <td>0.262406</td>\n",
       "      <td>0.339695</td>\n",
       "      <td>0.268786</td>\n",
       "      <td>0.080960</td>\n",
       "      <td>0.074222</td>\n",
       "    </tr>\n",
       "    <tr>\n",
       "      <th>CAC40</th>\n",
       "      <td>0.249741</td>\n",
       "      <td>0.303573</td>\n",
       "      <td>1.000000</td>\n",
       "      <td>0.675564</td>\n",
       "      <td>0.739439</td>\n",
       "      <td>0.853303</td>\n",
       "      <td>-0.115873</td>\n",
       "      <td>-0.034521</td>\n",
       "    </tr>\n",
       "    <tr>\n",
       "      <th>NQ100</th>\n",
       "      <td>0.514384</td>\n",
       "      <td>0.262406</td>\n",
       "      <td>0.675564</td>\n",
       "      <td>1.000000</td>\n",
       "      <td>0.848341</td>\n",
       "      <td>0.662259</td>\n",
       "      <td>-0.049633</td>\n",
       "      <td>0.041190</td>\n",
       "    </tr>\n",
       "    <tr>\n",
       "      <th>DJI30</th>\n",
       "      <td>0.349835</td>\n",
       "      <td>0.339695</td>\n",
       "      <td>0.739439</td>\n",
       "      <td>0.848341</td>\n",
       "      <td>1.000000</td>\n",
       "      <td>0.708435</td>\n",
       "      <td>-0.066604</td>\n",
       "      <td>0.070347</td>\n",
       "    </tr>\n",
       "    <tr>\n",
       "      <th>DAX30</th>\n",
       "      <td>0.265606</td>\n",
       "      <td>0.268786</td>\n",
       "      <td>0.853303</td>\n",
       "      <td>0.662259</td>\n",
       "      <td>0.708435</td>\n",
       "      <td>1.000000</td>\n",
       "      <td>-0.115198</td>\n",
       "      <td>-0.018237</td>\n",
       "    </tr>\n",
       "    <tr>\n",
       "      <th>GOLD</th>\n",
       "      <td>0.003917</td>\n",
       "      <td>0.080960</td>\n",
       "      <td>-0.115873</td>\n",
       "      <td>-0.049633</td>\n",
       "      <td>-0.066604</td>\n",
       "      <td>-0.115198</td>\n",
       "      <td>1.000000</td>\n",
       "      <td>0.345935</td>\n",
       "    </tr>\n",
       "    <tr>\n",
       "      <th>EURUSD</th>\n",
       "      <td>0.040916</td>\n",
       "      <td>0.074222</td>\n",
       "      <td>-0.034521</td>\n",
       "      <td>0.041190</td>\n",
       "      <td>0.070347</td>\n",
       "      <td>-0.018237</td>\n",
       "      <td>0.345935</td>\n",
       "      <td>1.000000</td>\n",
       "    </tr>\n",
       "  </tbody>\n",
       "</table>\n",
       "</div>"
      ],
      "text/plain": [
       "            AMZN     BRENT     CAC40     NQ100     DJI30     DAX30      GOLD  \\\n",
       "AMZN    1.000000  0.084717  0.249741  0.514384  0.349835  0.265606  0.003917   \n",
       "BRENT   0.084717  1.000000  0.303573  0.262406  0.339695  0.268786  0.080960   \n",
       "CAC40   0.249741  0.303573  1.000000  0.675564  0.739439  0.853303 -0.115873   \n",
       "NQ100   0.514384  0.262406  0.675564  1.000000  0.848341  0.662259 -0.049633   \n",
       "DJI30   0.349835  0.339695  0.739439  0.848341  1.000000  0.708435 -0.066604   \n",
       "DAX30   0.265606  0.268786  0.853303  0.662259  0.708435  1.000000 -0.115198   \n",
       "GOLD    0.003917  0.080960 -0.115873 -0.049633 -0.066604 -0.115198  1.000000   \n",
       "EURUSD  0.040916  0.074222 -0.034521  0.041190  0.070347 -0.018237  0.345935   \n",
       "\n",
       "          EURUSD  \n",
       "AMZN    0.040916  \n",
       "BRENT   0.074222  \n",
       "CAC40  -0.034521  \n",
       "NQ100   0.041190  \n",
       "DJI30   0.070347  \n",
       "DAX30  -0.018237  \n",
       "GOLD    0.345935  \n",
       "EURUSD  1.000000  "
      ]
     },
     "execution_count": 13,
     "metadata": {},
     "output_type": "execute_result"
    }
   ],
   "source": [
    "datasets = pds.read_excel(\"database.xlsx\")\n",
    "#datasets\n",
    "datasets[[\"AMZN\", \"BRENT\", \"CAC40\",\n",
    "              \"NQ100\",\"DJI30\", \n",
    "              \"DAX30\", \"GOLD\", \"EURUSD\"]].pct_change(1).dropna().corr()"
   ]
  },
  {
   "cell_type": "markdown",
   "metadata": {},
   "source": [
    "###### Preprocessing"
   ]
  },
  {
   "cell_type": "code",
   "execution_count": 9,
   "metadata": {},
   "outputs": [],
   "source": [
    "##### Splitting the database into X and y\n",
    "X = datasets[[\"AMZN\", \"BRENT\", \"CAC40\",\n",
    "              \"NQ100\",\"DJI30\", \n",
    "              \"DAX30\", \"GOLD\", \"EURUSD\"]].pct_change(1).dropna().reset_index(drop=True)\n",
    "y = datasets[[\"NQ100\"]].pct_change(1).dropna().reset_index(drop=True)\n",
    "\n",
    "##### Splitting in train set and visualization set\n",
    "##### We put an interval of deviation of a period\n",
    "X_train = X.iloc[0:1400-1,:].values\n",
    "X_visu = X.iloc[1400:1700-1,:].values\n",
    "\n",
    "y_train = y.iloc[1:1400,:].values\n",
    "y_visu = y.iloc[1400+1:1700,:].values"
   ]
  },
  {
   "cell_type": "code",
   "execution_count": 10,
   "metadata": {},
   "outputs": [],
   "source": [
    "##### Importing the standardization function\n",
    "from sklearn.preprocessing import StandardScaler\n",
    "sc = StandardScaler()\n",
    "\n",
    "##### Standardization training and application\n",
    "Xtrain_sc = sc.fit_transform(X_train)\n",
    "\n",
    "##### Application of standardization\n",
    "Xvisu_sc = sc.transform(X_visu)\n",
    "\n",
    "ytrain_sc = sc.fit_transform(y_train)"
   ]
  },
  {
   "cell_type": "markdown",
   "metadata": {},
   "source": [
    "###### SVM"
   ]
  },
  {
   "cell_type": "code",
   "execution_count": 11,
   "metadata": {},
   "outputs": [
    {
     "name": "stdout",
     "output_type": "stream",
     "text": [
      "------------------ Initialization -----------------------\n",
      "Rising threshold: 0.0\n",
      "Lower threshold: 0.0\n",
      "Spread: 0.0005\n",
      "Leverage: 1\n",
      "                                                           \n",
      "---------------------- Metrics ----------------------------\n",
      "Accuracy 57.19 %\n",
      "Pourcentage of earnings: 52.61 %\n",
      "Poucentage composed: 65.32 %\n",
      "Ratio earning/trade: 0.18 %\n",
      "Standard deviation of earning: 1.24 %\n",
      "Sharpe ratio: 0.141796\n",
      "Sortino ratio: 0.215487\n",
      "                                                           \n",
      "-------------------- Other Data -----------------------\n",
      "Sum rise earning: 28.14 %\n",
      "Sum drop earning: 24.47 %\n",
      "Max rise earning: 4.43 %\n",
      "Min rise earning: -3.62 %\n",
      "Max drop earning: 5.1 %\n",
      "Min drop earning: -2.14 %\n",
      "                                                           \n",
      "-------------------- Distribution -----------------------\n"
     ]
    },
    {
     "data": {
      "image/png": "[encoded data removed]",
      "text/plain": [
       "<Figure size 432x288 with 1 Axes>"
      ]
     },
     "metadata": {
      "needs_background": "light"
     },
     "output_type": "display_data"
    },
    {
     "name": "stdout",
     "output_type": "stream",
     "text": [
      "                                                           \n",
      "-------------------- Growth of investment -----------------------\n"
     ]
    },
    {
     "data": {
      "image/png": "[encoded data removed]",
      "text/plain": [
       "<Figure size 432x288 with 1 Axes>"
      ]
     },
     "metadata": {
      "needs_background": "light"
     },
     "output_type": "display_data"
    }
   ],
   "source": [
    "##### Importing the LinearSVR function and put it in a varibale\n",
    "from sklearn.svm import LinearSVR\n",
    "svr = LinearSVR()\n",
    "\n",
    "##### Fit the LinearSVR\n",
    "svr.fit(Xtrain_sc, ytrain_sc)\n",
    "\n",
    "##### Predictions and earning\n",
    "y_pred = sc.inverse_transform(svr.predict(Xvisu_sc))\n",
    "y_pred = y_pred.reshape(len(y_pred),1)\n",
    "\n",
    "earning(y_pred, y_visu, leverage=1)"
   ]
  },
  {
   "cell_type": "markdown",
   "metadata": {},
   "source": [
    "##### Décision Tree Regressor"
   ]
  },
  {
   "cell_type": "code",
   "execution_count": 13,
   "metadata": {},
   "outputs": [
    {
     "name": "stdout",
     "output_type": "stream",
     "text": [
      "------------------ Initialisation -----------------------\n",
      "Rising threshold: 0.0\n",
      "Lower threshold: 0.0\n",
      "Spread: 0.0005\n",
      "Leverage: 1\n",
      "                                                           \n",
      "---------------------- Metrics ----------------------------\n",
      "Accuracy 51.84 %\n",
      "Pourcentage of earnings: 25.26 %\n",
      "Poucentage composed: 25.74 %\n",
      "Ratio earning/trade: 0.08 %\n",
      "Standard deviation of earning: 1.25 %\n",
      "Sharpe ratio: 0.067366\n",
      "Sortino ratio: 0.099921\n",
      "                                                           \n",
      "-------------------- Other Data -----------------------\n",
      "Sum rise earning: 18.07 %\n",
      "Sum drop earning: 7.19 %\n",
      "Max rise earning: 4.43 %\n",
      "Min rise earning: -4.17 %\n",
      "Max drop earning: 5.1 %\n",
      "Min drop earning: -3.45 %\n",
      "                                                           \n",
      "-------------------- Distribution -----------------------\n"
     ]
    },
    {
     "data": {
      "image/png": "[encoded data removed]",
      "text/plain": [
       "<Figure size 432x288 with 1 Axes>"
      ]
     },
     "metadata": {
      "needs_background": "light"
     },
     "output_type": "display_data"
    },
    {
     "name": "stdout",
     "output_type": "stream",
     "text": [
      "                                                           \n",
      "-------------------- Growth -----------------------\n"
     ]
    },
    {
     "data": {
      "image/png": "[encoded data removed]",
      "text/plain": [
       "<Figure size 432x288 with 1 Axes>"
      ]
     },
     "metadata": {
      "needs_background": "light"
     },
     "output_type": "display_data"
    }
   ],
   "source": [
    "##### Importing the DecisionTreeRegressor function and put it in a varibale\n",
    "from sklearn.tree import DecisionTreeRegressor\n",
    "tree = DecisionTreeRegressor(max_depth=None)\n",
    "\n",
    "##### Fit the LinearSVR\n",
    "tree.fit(Xtrain_sc, ytrain_sc)\n",
    "\n",
    "##### Predictions and earning\n",
    "y_pred = sc.inverse_transform(tree.predict(Xvisu_sc))\n",
    "y_pred = y_pred.reshape(len(y_pred),1)\n",
    "\n",
    "earning(y_pred, y_visu, leverage=1)\n"
   ]
  },
  {
   "cell_type": "markdown",
   "metadata": {},
   "source": [
    "##### Random Forest Regressor"
   ]
  },
  {
   "cell_type": "code",
   "execution_count": 14,
   "metadata": {},
   "outputs": [
    {
     "name": "stdout",
     "output_type": "stream",
     "text": [
      "------------------ Initialisation -----------------------\n",
      "Rising threshold: 0.0\n",
      "Lower threshold: 0.0\n",
      "Spread: 0.0005\n",
      "Leverage: 1\n",
      "                                                           \n",
      "---------------------- Metrics ----------------------------\n",
      "Accuracy 51.84 %\n",
      "Pourcentage of earnings: 34.94 %\n",
      "Poucentage composed: 38.54 %\n",
      "Ratio earning/trade: 0.12 %\n",
      "Standard deviation of earning: 1.25 %\n",
      "Sharpe ratio: 0.093476\n",
      "Sortino ratio: 0.150788\n",
      "                                                           \n",
      "-------------------- Other Data -----------------------\n",
      "Sum rise earning: 21.66 %\n",
      "Sum drop earning: 13.28 %\n",
      "Max rise earning: 4.43 %\n",
      "Min rise earning: -4.17 %\n",
      "Max drop earning: 5.1 %\n",
      "Min drop earning: -2.7 %\n",
      "                                                           \n",
      "-------------------- Distribution -----------------------\n"
     ]
    },
    {
     "data": {
      "image/png": "[encoded data removed]",
      "text/plain": [
       "<Figure size 432x288 with 1 Axes>"
      ]
     },
     "metadata": {
      "needs_background": "light"
     },
     "output_type": "display_data"
    },
    {
     "name": "stdout",
     "output_type": "stream",
     "text": [
      "                                                           \n",
      "-------------------- Growth -----------------------\n"
     ]
    },
    {
     "data": {
      "image/png": "[encoded data removed]",
      "text/plain": [
       "<Figure size 432x288 with 1 Axes>"
      ]
     },
     "metadata": {
      "needs_background": "light"
     },
     "output_type": "display_data"
    }
   ],
   "source": [
    "##### Importing the RandomForestRegressor function and put it in a varibale\n",
    "from sklearn.ensemble import RandomForestRegressor\n",
    "rfr = RandomForestRegressor(n_estimators=50)\n",
    "\n",
    "##### Fit the RandomForestRegressor\n",
    "rfr.fit(Xtrain_sc, ytrain_sc)\n",
    "\n",
    "##### Predictions and earning\n",
    "y_pred = sc.inverse_transform(rfr.predict(Xvisu_sc))\n",
    "y_pred = y_pred.reshape(len(y_pred),1)\n",
    "\n",
    "earning(y_pred, y_visu, leverage=1)"
   ]
  },
  {
   "cell_type": "code",
   "execution_count": null,
   "metadata": {},
   "outputs": [],
   "source": [
    "# Example of other function for backtesting\n",
    "\n",
    "def earning(y_pred, y_visu, up=0, down=0, spread=0.00050, leverage=1):\n",
    "    \n",
    "    # Initialization\n",
    "    l = len(y_pred)\n",
    "    \n",
    "    earning = np.zeros((l,1))\n",
    "    rise = np.zeros((l,1))\n",
    "    drop = np.zeros((l,1))\n",
    "    \n",
    "    # Earning\n",
    "    for i in range(l):\n",
    "        if y_pred[i][0]>up:\n",
    "            earning[i][0] = (y_visu[i][0]-spread)*leverage\n",
    "            rise[i][0] = (y_visu[i][0]-spread)*leverage\n",
    "        elif y_pred[i][0]<-down:\n",
    "            earning[i][0] = (-y_visu[i][0]-spread)*leverage\n",
    "            drop[i][0] = (-y_visu[i][0]-spread)*leverage\n",
    "            \n",
    "            \n",
    "    # Growth\n",
    "    coef = 1\n",
    "    coef_ = np.zeros((l,1))\n",
    "    \n",
    "    for i in range(l):\n",
    "        coef = coef * (1+earning[i][0])\n",
    "        coef_[i][0] = (coef-1)*100\n",
    "        \n",
    "    percentage = (coef-1)*100\n",
    "    \n",
    "    \n",
    "    # Statisitcs\n",
    "    mean = np.mean(earning[earning!=0])\n",
    "    std = np.std(earning[earning!=0])\n",
    "    std_down = np.std(earning[earning<0])\n",
    "    \n",
    "    Sharpe = mean/std\n",
    "    \n",
    "    Sortino = mean/std_down\n",
    "    \n",
    "    \n",
    "    \n",
    "    # Metrics\n",
    "    sum_rise_earning = np.sum(rise)*100\n",
    "    sum_down_earning = np.sum(drop)*100\n",
    "    \n",
    "    min_rise_earning = np.min(rise, axis=0)[0]*100\n",
    "    max_rise_earning = np.max(rise, axis=0)[0]*100\n",
    "    \n",
    "    min_drop_earning = np.min(drop, axis=0)[0]*100\n",
    "    max_drop_earning = np.max(drop, axis=0)[0]*100\n",
    "    \n",
    "    \n",
    "    #Accuracy\n",
    "    \n",
    "    count_true = 0\n",
    "    count_false = 0\n",
    "    p = 0\n",
    "    \n",
    "    for i in range(l):\n",
    "        if earning[i][0]>0:\n",
    "            count_true += 1\n",
    "        elif earning[i][0]<0:\n",
    "            count_false += 1\n",
    "    \n",
    "    if count_true == 0 and count_false == 0:\n",
    "        p = \"Error\"\n",
    "    else:\n",
    "        p = round(count_true/(count_false+count_true)*100,2)\n",
    "        \n",
    "    earnings = earning\n",
    "    k = np.array([k for k in range(len(y_pred))])\n",
    "    k = tuple(k.reshape(1,-1)[0])\n",
    "    earning = tuple(earning.reshape(1,-1)[0])\n",
    "    y_pred = tuple(y_pred.reshape(1,-1)[0])\n",
    "    y_visu = tuple(y_visu.reshape(1,-1)[0])\n",
    "    coef_ = tuple(coef_.reshape(1,-1)[0])\n",
    "\n",
    "\n",
    "    Rise = len(earnings[0.035<earnings])\n",
    "    rise = len(earnings[0.005<earnings]) - len(earnings[0.035<earnings])\n",
    "    Drop = len(earnings[earnings<-0.035])\n",
    "    drop = len(earnings[-0.035<earnings]) - len(earnings[-0.005<earnings])\n",
    "    stagnation = len(earnings[-0.005<earnings]) - len(earnings[0.005<earnings])\n",
    "\n",
    "    liste = [Rise, rise, stagnation, drop, Drop]\n",
    "    signe = [len(earnings[earnings<0]), len(earnings[earnings>0])]\n",
    "    initialization = pds.DataFrame(np.array([[\"Percentage of earning\",\"{}%\".format(round(percentage))],\n",
    "                                                [\"Sharpe ratio\", round(Sharpe,6)],\n",
    "                                                [\"Sortino ratio\",round(Sortino,6)],\n",
    "                                            [\"Sum upward earning\",\"{}%\".format(round(sum_down_earning))],\n",
    "                                             [\"Sum downward earning\",\"{}%\".format(round(sum_rise_earning))],\n",
    "                                             [\"Earning per trade\", \"{}%\".format(round(np.mean(earnings)*100,3))]\n",
    "\n",
    "                                            ]), \n",
    "                                   columns = [\"Indicator\", \"Value\"])\n",
    "\n",
    "\n",
    "    import plotly.offline as pyo\n",
    "    import plotly.graph_objs as go\n",
    "    from plotly.subplots import make_subplots\n",
    "\n",
    "    # Initialization\n",
    "    background = \"#555555\"\n",
    "    specs = [[{\"type\":\"table\"}, {\"type\":\"domain\"}, {\"type\":\"domain\"}],\n",
    "             [{\"type\":\"Scatter\"}, {\"type\":\"Histogram\"},{\"type\":\"Scatter\"}\n",
    "\n",
    "]]\n",
    "\n",
    "\n",
    "    figure = make_subplots(rows=2, cols=3, subplot_titles=(\"Table\", \"Pie\", \"Pie\",\"Scatter\", \"Histogram\", \"Graphe\"),specs=specs)\n",
    "\n",
    "    # Create the graphics\n",
    "    trace_1 = go.Table(\n",
    "        header=dict(values=list(initialization.columns),\n",
    "                    fill_color='#71C942',\n",
    "                    align='center'),\n",
    "        cells=dict(values=[initialization.Indicator, initialization.Value],\n",
    "                   fill_color='#747474',\n",
    "                   align='center',\n",
    "                  height=50))\n",
    "\n",
    "    trace_2 = go.Pie(labels=[\"earning < -3.50%\", \"earning < -0.5%\", \"-0.5%<earning<0.5%\", \"0.5% < earning\", \"3.50% < earning\"], values=liste, name=\"Gain\", hole=0.5, hoverinfo=\"label+percent+name\")\n",
    "\n",
    "    trace_3 = go.Pie(labels=[\"Loss\", \"Profit\"], values=signe, name=\"Gain\", hole= 0.5, hoverinfo = \"label+percent+name\")\n",
    "\n",
    "    trace_4 = go.Scatter(x=y_pred, y=y_visu, mode=\"markers\",  marker=dict(color=\"#B95AFF\"), name=\"Predicted/True Variation\")\n",
    "\n",
    "    trace_5 = go.Histogram(x=earning, marker=dict(color=\"#51F1FF\"), name=\"Distibution\")\n",
    "\n",
    "    trace_6 = go.Scatter(x=k, y=coef_,  marker=dict(color=\"#90FF55\"), mode=\"lines\", name=\"Developmnt of capital\")\n",
    "\n",
    "\n",
    "    # Add trace on the subplots\n",
    "    figure.add_trace(trace_1, row = 1, col = 1)\n",
    "    figure.add_trace(trace_2, row = 1, col = 2)\n",
    "    figure.add_trace(trace_3, row = 1, col = 3)\n",
    "    figure.add_trace(trace_4, row = 2, col = 1)\n",
    "    figure.add_trace(trace_5, row = 2, col = 2)\n",
    "    figure.add_trace(trace_6, row = 2, col = 3)\n",
    "\n",
    "\n",
    "    # Change x axis\n",
    "    figure.update_xaxes(title_text=\"Predicted asset variation\", row=2, col=1)\n",
    "    figure.update_xaxes(title_text=\"Earning in %\", row=2, col=2)\n",
    "    figure.update_xaxes(title_text=\"\", row=2, col=3)\n",
    "\n",
    "\n",
    "    # Change y axis\n",
    "    figure.update_yaxes(title_text=\"True asset variation\", row=2, col=1)\n",
    "    figure.update_yaxes(title_text=\"Frequency\", row=2, col=2)\n",
    "    figure.update_yaxes(title_text=\"Cumulative growth %\", row=2, col=3)\n",
    "\n",
    "\n",
    "    # Layout\n",
    "    figure.update_layout(\n",
    "\n",
    "        plot_bgcolor=background, \n",
    "\n",
    "        paper_bgcolor=background, \n",
    "\n",
    "        font={\"color\":\"#FFFFFF\"},\n",
    "\n",
    "        annotations=[dict(text=\"\", x=0.50, y=0.79, font_size=20, showarrow=False),\n",
    "                     dict(text=\"\", x=0.85, y=0.79, font_size=20, showarrow=False)],\n",
    "\n",
    "        height=850)\n",
    "\n",
    "\n",
    "\n",
    "\n",
    "\n",
    "    pyo.plot(figure, filename=\"Backtesting\")\n",
    "\n",
    "        #return percentage, earning, coef_, sum_down_earning, sum_rise_earning, Sharpe, Sortino, mean*100 "
   ]
  },
  {
   "cell_type": "code",
   "execution_count": null,
   "metadata": {},
   "outputs": [],
   "source": []
  },
  {
   "cell_type": "code",
   "execution_count": null,
   "metadata": {},
   "outputs": [],
   "source": []
  },
  {
   "cell_type": "code",
   "execution_count": null,
   "metadata": {},
   "outputs": [],
   "source": []
  },
  {
   "cell_type": "code",
   "execution_count": null,
   "metadata": {},
   "outputs": [],
   "source": []
  },
  {
   "cell_type": "code",
   "execution_count": null,
   "metadata": {},
   "outputs": [],
   "source": []
  },
  {
   "cell_type": "code",
   "execution_count": null,
   "metadata": {},
   "outputs": [],
   "source": []
  }
 ],
 "metadata": {
  "kernelspec": {
   "display_name": "Python 3",
   "language": "python",
   "name": "python3"
  },
  "language_info": {
   "codemirror_mode": {
    "name": "ipython",
    "version": 3
   },
   "file_extension": ".py",
   "mimetype": "text/x-python",
   "name": "python",
   "nbconvert_exporter": "python",
   "pygments_lexer": "ipython3",
   "version": "3.7.6"
  }
 },
 "nbformat": 4,
 "nbformat_minor": 4
}
